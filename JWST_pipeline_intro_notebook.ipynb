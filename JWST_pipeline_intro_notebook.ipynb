{
 "cells": [
  {
   "cell_type": "markdown",
   "metadata": {},
   "source": [
    "# Introduction to the JWST pipeline\n",
    "\n",
    "This is a tutorial on running the JWST Science Calibration Pipeline (referred to as “the pipeline”).\n",
    "\n",
    "\n",
    "## TOC:\n",
    "* [Overview of JWST pipeline](#1)\n",
    "    * [What is the JWST Pipeline?](#1a)\n",
    "    * [Stages of the Pipeline](#1b)\n",
    "* [Reference Files and CRDS](#3)\n",
    "* [Parameter Files](#4)\n",
    "* [Installation](#2)\n",
    "    * [Creating an Envrionment](#2a)\n",
    "    * [Installing the Last Released Verion of JWST](#2b)\n",
    "    * [Installing the Latest Development Version from Github](#2c)\n",
    "* [Running the Pipeline in Python](#5)\n",
    "    * [Example 1: Running Detector1Pipeline on a NIRCAM Image](#5a)\n",
    "    * [Example 2: Running a Single Pipeline Step (LinearityStep) on a NIRCAM Image](#5b)\n",
    "    * [Options when Running the Pipeline in Python: 'call' vs 'run' methods](#5c)\n",
    "    * [Example 3: Using 'run' Instead of 'call' to run Detector1Pipeline on NIRCAM image](#5d)\n",
    "* [Configuring the Pipeline in Python](#6)\n",
    "    * [Example 4: Setting Parameters Using a Custom Parameter File](#6)\n",
    "    * [Example 5: Setting Parameters with a Dictionary when Constructing a Pipeline/Step Object](#6)\n",
    "    * [Example 6: Changing Reference Files](#6)\n",
    "    * [Example 7: Skipping Pipeline Steps](#6)\n",
    "    * [Example 8: Confguring the Pipeline Object Directly (not reccomended)](#6)\n",
    "* [Running the Pipeline using the Command Line Interface](#7)\n",
    "    * [Example 9: Running Detector1Pipeline on a NIRCAM Image](#7a)\n",
    "    * [Example 10: Running a Single Pipeline Step (LinearityStep) on a NIRCAM Image](#7b)"
   ]
  },
  {
   "cell_type": "markdown",
   "metadata": {},
   "source": [
    "## Overview of JWST pipeline <a class=\"anchor\" id=\"1\"></a>\n",
    "\n",
    "The following will provide a very brief summary to provide context for some of the information in this notebook: a more extensive description is available in the [JWST pipeline documentation](https://jwst-pipeline.readthedocs.io/en/latest/).\n",
    "\n",
    "#### What is the JWST pipeline?<a class=\"anchor\" id=\"1a\"></a>\n",
    "\n",
    "The JWST pipeline is the software suite that processes raw data from the JWST instruments to make it science-ready by performing various corrections and operations on the data. The pipeline is written in Python and hosted on [Github]((https://github.com/spacetelescope/jwst).\n",
    "\n",
    "Data products available for download in the MAST archive have already been processed with this pipeline, but users wishing to do custom processing may want to configure and run them pipeline themselves. The pipeline can be ran and configured in [Python](#5) or via a command line interface using the `strun` command. \n",
    "\n",
    "The JWST pipeline is subdivided into three stages (e.g `Detector1Pipeline`, `Image3Pipeline`). Each dataset, depending on what type of observation it is, will have three stages in its pipeline. Furthermore, each pipeline consists of individual Steps (e.g AssignWCSStep, LinearityStep). The modular nature of the pipeline allows users to customize their processing by running the full pipeline, a single stage, a single step within each stage, etc. Steps can also be 'switched' on and off during processing (for example, running the `Detector1Pipeline` but omitting the `DarkCurrentStep`.\n",
    "\n",
    "The main way in which the pipeline is configured is via `Parameter Files`. `Reference Files` provide the data for the multitude of calibrations and corrections performed by the pipeline. \n",
    "\n",
    "#### Stages of the Pipeline<a class=\"anchor\" id=\"1b\"></a>\n",
    "The JWST pipeline is broken into 3 [stages](https://jwst-pipeline.readthedocs.io/en/latest/jwst/pipeline/main.html). Each stage consists of a series of steps. \n",
    "\n",
    "- Stage 1: Detector-level corrections and ramp fitting for individual exposures\n",
    "\n",
    "  The first stage, called `calwebb_detector1`, is applied nearly universally for all instruments and modes. It consists of detector-level corrections that are performed on a group-by-group basis, followed by ramp fitting. The output of stage 1 processing is a countrate image per exposure, or per integration for some modes. The input to this step is `uncal.fits` file, and the output is a `rate.fits` file.\n",
    "\n",
    "\n",
    "- Stage 2: Instrument-mode calibrations for individual exposures\n",
    "\n",
    "  The second stage is split into separate modules for imaging and spectroscopic data, called `calwebb_image2` and `calwebb_spec2` respectively. It consists of additional instrument-level and observing-mode corrections and calibrations to produce fully calibrated exposures. The details differ for imaging and spectroscopic exposures, and there are some corrections that are unique to certain instruments or modes. The input to this step is `rate.fits` file, and the output is a `cal.fits` file.\n",
    "  \n",
    "  \n",
    "- Stage 3: Combining data from multiple exposures within an observation\n",
    "\n",
    "  The third stage is divided into five separate modules depending on the observing mode. It consists of routines that work with multiple exposures and in most cases produce some kind of combined product. There are unique pipeline modules for stage 3 processing of imaging, spectroscopic, coronagraphic, AMI, and TSO observations.\n"
   ]
  },
  {
   "cell_type": "markdown",
   "metadata": {},
   "source": [
    "# Installation <a class=\"anchor\" id=\"2\"></a>\n",
    "\n",
    "#### Creating an Envrionment <a class=\"anchor\" id=\"2a\"></a>\n",
    "\n",
    "For the purpose of this tutorial we will install jwst in a new conda environment, called `jwst-test` using Python 3.8. This tutorial assumes a user has conda installed.\n",
    "The package installs its dependencies but we need to install Python and numpy in the conda environment.  \n",
    "\n",
    "- Make and activate the new conda environment\n",
    "\n",
    "*% conda create -n jwst-test python=3.8*\n",
    "\n",
    "*% source activate jwst-test*\n",
    "\n",
    "- Install numpy\n",
    "\n",
    "*% pip install numpy==1.19*\n",
    "\n",
    "- Another useful (not required) package is jupyter. It installs ipython and jupyter notebook.\n",
    "\n",
    "*% pip install jupyter*\n",
    "\n",
    "\n",
    "#### Installing the Last Released Verion of JWST <a class=\"anchor\" id=\"2b\"></a>\n",
    "\n",
    "The latest public release can be installed with one command.\n",
    "\n",
    "*% pip install jwst*\n",
    "\n",
    "#### Installing the Latest Development Version from Github <a class=\"anchor\" id=\"2c\"></a>\n",
    "\n",
    "To work with the absolute most up-to-date version of the pipeline, the `main` branch of the Github repository can be installed. The source code for the JWST pipeline is located on Github in the spacetelescope organization.\n",
    "\n",
    "https://github.com/spacetelescope/jwst\n",
    "\n",
    "To install the latest code from github use the command:\n",
    "\n",
    "*% pip install git+https://github.com/spacetelescope/jwst*"
   ]
  },
  {
   "cell_type": "markdown",
   "metadata": {},
   "source": [
    "## Reference Files and CRDS <a class=\"anchor\" id=\"3\"></a>\n",
    "\n",
    "Reference files are data files - seperate from the input data being processed - that the JWST pipeline requires to calibrate data and apply necessary corrections (e.g dark correction, bias correction) and calibrations to achieve science-ready data. Each data set has a specific set of up-to-date reference files associated with it which supply the data for all the pipeline calibration steps.\n",
    "\n",
    "Reference files are created and validated by the JWST instrument teams. Because many of these corrections are time dependent (e.g a monthly dark file), or are periodically updated and improved as understanding of the instrument improves, they must be version controlled to ensure users can access the exact set of files for a dataset as well as revert back to previous versions if needed. Managing these files and determining the exact set of reference files to apply to any given data file is not a trivial task: the CRDS (Calibration Reference Data System) manages these intricacies and is the interface for obtaining and managing pipeline reference files.\n",
    "\n",
    "Users internal to the STScI network already have all reference files on disk in the CRDS file system on central storage and will not have to do any special setup to allow the pipeline access to reference files. External users will have to configure their environment to point to the CRDS_SERVER_URL (to download reference files from this server) as well as a directory in their local filesystem (CRDS_PATH) to which these files will be downloaded to, and which the pipeline will recognize as the location of these files when run. In your shell, set the environment variables:\n",
    "\n",
    "##### *% export CRDS_PATH=$HOME/crds_cache*\n",
    "\n",
    "##### *% export CRDS_SERVER_URL=https://jwst-crds.stsci.edu*\n",
    "\n",
    "When you run the pipeline on a dataset for the first time, the CRDS code within the pipeline will determine the best set of reference files based on the exposure date, observation parameters (e.g instrument type and mode, filter), and 'context' (akin to a snapshot in time, the most up-to-date being the default, but users can also roll back to a previous context with different mappings). Then, it will connect to the server (specified via `CRDS_SERVER_URL`) and download those files to your local directory `CRDS_PATH`. Subsequent runs of the Python will first check `CRDS_PATH` for existing required reference files so they aren't re-downloaded. \n",
    "\n"
   ]
  },
  {
   "cell_type": "markdown",
   "metadata": {},
   "source": [
    "# Parameter Files <a class=\"anchor\" id=\"4\"></a>\n",
    "\n",
    "Parameter files are [ASDF](https://readthedocs.org/projects/asdf/) format files that set the multitude of parameters for pipeline steps, and are the main way that the JWST pipeline is configured. They are similar to reference files in the sense that they are created by JWST instrument teams and direct the pipeline behavior/output. Also like reference files, they are version controlled and managed by CRDS. This version-controlling gives the instrument teams the ability to evolve parameter values for different observing modes over time.\n",
    "\n",
    "An example of a parameter file is:\n",
    "\n",
    "        >> jwst_miri_pars-detector1pipeline_0001.asdf\n",
    "\n",
    "When a user runs the pipeline, the corresponding parameter files for the step(s) being run and the dataset being processed will be downloaded to the local crds cache (CRDS_PATH) along side the other reference files. \n",
    "\n",
    "Note that not every observing mode/pipeline step have a parameter file - in some cases, there are no special parameter selections needed and the coded defaults suffice. For example, the `Image2Pipeline` for Nircam does not have a parameter file, and the coded default values are used for every dataset. See the [JWST CRDS website](https://jwst-crds.stsci.edu/) to browse parameter files for different steps and observing modes.\n",
    "\n",
    "Parameter files may be ignored or overridden when running the pipeline. Users can override parameters individually, or supply their own custom parameter file which will override keywords in any parameter file existing in CRDS for that dataset. See \\<link> for more information on configuring the pipeline. \n"
   ]
  },
  {
   "cell_type": "markdown",
   "metadata": {},
   "source": [
    "# Running the Pipeline in Python <a class=\"anchor\" id=\"5\"></a>\n",
    "\n",
    "The following section will demonstrate several possibilities of running and configuring the pipeline/pipeline step using the Python interface.\n",
    "\n",
    "#### Example 1: Running Detector1Pipeline on a NIRCAM image.<a class=\"anchor\" id=\"5a\"></a>\n",
    "\n",
    "The Detector1Pipeline performs many of the basic detector-level corrections as well as ramp fitting. Start by importing ``Detector1Pipeline`` from ``jwst.pipeline``"
   ]
  },
  {
   "cell_type": "code",
   "execution_count": 54,
   "metadata": {},
   "outputs": [],
   "source": [
    "from jwst.pipeline import Detector1Pipeline"
   ]
  },
  {
   "cell_type": "markdown",
   "metadata": {},
   "source": [
    "Now create an instance of the ``Detector1Pipeline`` - we'll name this object `pipe` here."
   ]
  },
  {
   "cell_type": "code",
   "execution_count": 6,
   "metadata": {},
   "outputs": [
    {
     "name": "stderr",
     "output_type": "stream",
     "text": [
      "2021-03-31 22:29:48,223 - stpipe.Detector1Pipeline - INFO - Detector1Pipeline instance created.\n",
      "2021-03-31 22:29:48,225 - stpipe.Detector1Pipeline.group_scale - INFO - GroupScaleStep instance created.\n",
      "2021-03-31 22:29:48,227 - stpipe.Detector1Pipeline.dq_init - INFO - DQInitStep instance created.\n",
      "2021-03-31 22:29:48,229 - stpipe.Detector1Pipeline.saturation - INFO - SaturationStep instance created.\n",
      "2021-03-31 22:29:48,231 - stpipe.Detector1Pipeline.ipc - INFO - IPCStep instance created.\n",
      "2021-03-31 22:29:48,233 - stpipe.Detector1Pipeline.superbias - INFO - SuperBiasStep instance created.\n",
      "2021-03-31 22:29:48,235 - stpipe.Detector1Pipeline.refpix - INFO - RefPixStep instance created.\n",
      "2021-03-31 22:29:48,237 - stpipe.Detector1Pipeline.rscd - INFO - RscdStep instance created.\n",
      "2021-03-31 22:29:48,239 - stpipe.Detector1Pipeline.firstframe - INFO - FirstFrameStep instance created.\n",
      "2021-03-31 22:29:48,241 - stpipe.Detector1Pipeline.lastframe - INFO - LastFrameStep instance created.\n",
      "2021-03-31 22:29:48,243 - stpipe.Detector1Pipeline.linearity - INFO - LinearityStep instance created.\n",
      "2021-03-31 22:29:48,244 - stpipe.Detector1Pipeline.dark_current - INFO - DarkCurrentStep instance created.\n",
      "2021-03-31 22:29:48,246 - stpipe.Detector1Pipeline.reset - INFO - ResetStep instance created.\n",
      "2021-03-31 22:29:48,248 - stpipe.Detector1Pipeline.persistence - INFO - PersistenceStep instance created.\n",
      "2021-03-31 22:29:48,250 - stpipe.Detector1Pipeline.jump - INFO - JumpStep instance created.\n",
      "2021-03-31 22:29:48,252 - stpipe.Detector1Pipeline.ramp_fit - INFO - RampFitStep instance created.\n",
      "2021-03-31 22:29:48,254 - stpipe.Detector1Pipeline.gain_scale - INFO - GainScaleStep instance created.\n"
     ]
    }
   ],
   "source": [
    "pipe = Detector1Pipeline()"
   ]
  },
  {
   "cell_type": "markdown",
   "metadata": {},
   "source": [
    "And now, in the most simple use case, process the `uncal` fits file in this directory using the `pipe.call` method. This will return an `ImageModel` representing the calibrated data. Additionally, you'll see the file `jw42424001001_01101_00001_nrca5_trapsfilled.fits` output in the cwd - this is an intermediate output from the [persistance](https://jwst-pipeline.readthedocs.io/en/latest/jwst/data_products/nonscience_products.html#charge-trap-state-data-trapsfilled) step of the pipeline. We will save the returned image model to the variable `result`. By setting `save_results` to True, we will also get this same data model written out to a fits file in the cwd (jw42424001001_01101_00001_nrca5_rate.fits, a `rate` file is the output product from the Detector1Pipeline). There is also an optional rguement `output_file` where you can choose the name of your output file, but in this case we will just used the default naming convention which takes the name of the input `uncal` file and changes the suffix to `rate`."
   ]
  },
  {
   "cell_type": "code",
   "execution_count": 100,
   "metadata": {},
   "outputs": [
    {
     "name": "stderr",
     "output_type": "stream",
     "text": [
      "2021-04-05 00:45:04,293 - stpipe - WARNING - /Users/cshanahan/miniconda3/envs/jwst-dev/lib/python3.8/site-packages/ipykernel/ipkernel.py:287: DeprecationWarning: `should_run_async` will not call `transform_cell` automatically in the future. Please pass the result to `transformed_cell` argument and any exception that happen during thetransform in `preprocessing_exc_tuple` in IPython 7.17 and above.\n",
      "  and should_run_async(code)\n",
      "\n",
      "2021-04-05 00:45:04,714 - stpipe - INFO - PARS-DETECTOR1PIPELINE parameters found: /Users/cshanahan/crds_cache/references/jwst/nircam/jwst_nircam_pars-detector1pipeline_0002.asdf\n",
      "2021-04-05 00:45:04,723 - stpipe - WARNING - /Users/cshanahan/miniconda3/envs/jwst-dev/lib/python3.8/site-packages/asdf/asdf.py:212: AsdfWarning: File 'file:///Users/cshanahan/crds_cache/references/jwst/nircam/jwst_nircam_pars-detector1pipeline_0002.asdf' was created with extension 'asdf.extension.BuiltinExtension' from package asdf-2.7.2, but older version asdf-2.7.1 is installed\n",
      "  warnings.warn(fmt_msg, AsdfWarning)\n",
      "\n",
      "2021-04-05 00:45:04,743 - stpipe.Detector1Pipeline - INFO - Detector1Pipeline instance created.\n",
      "2021-04-05 00:45:04,744 - stpipe.Detector1Pipeline.group_scale - INFO - GroupScaleStep instance created.\n",
      "2021-04-05 00:45:04,746 - stpipe.Detector1Pipeline.dq_init - INFO - DQInitStep instance created.\n",
      "2021-04-05 00:45:04,747 - stpipe.Detector1Pipeline.saturation - INFO - SaturationStep instance created.\n",
      "2021-04-05 00:45:04,749 - stpipe.Detector1Pipeline.ipc - INFO - IPCStep instance created.\n",
      "2021-04-05 00:45:04,750 - stpipe.Detector1Pipeline.superbias - INFO - SuperBiasStep instance created.\n",
      "2021-04-05 00:45:04,752 - stpipe.Detector1Pipeline.refpix - INFO - RefPixStep instance created.\n",
      "2021-04-05 00:45:04,753 - stpipe.Detector1Pipeline.rscd - INFO - RscdStep instance created.\n",
      "2021-04-05 00:45:04,754 - stpipe.Detector1Pipeline.firstframe - INFO - FirstFrameStep instance created.\n",
      "2021-04-05 00:45:04,756 - stpipe.Detector1Pipeline.lastframe - INFO - LastFrameStep instance created.\n",
      "2021-04-05 00:45:04,757 - stpipe.Detector1Pipeline.linearity - INFO - LinearityStep instance created.\n",
      "2021-04-05 00:45:04,758 - stpipe.Detector1Pipeline.dark_current - INFO - DarkCurrentStep instance created.\n",
      "2021-04-05 00:45:04,760 - stpipe.Detector1Pipeline.reset - INFO - ResetStep instance created.\n",
      "2021-04-05 00:45:04,762 - stpipe.Detector1Pipeline.persistence - INFO - PersistenceStep instance created.\n",
      "2021-04-05 00:45:04,763 - stpipe.Detector1Pipeline.jump - INFO - JumpStep instance created.\n",
      "2021-04-05 00:45:04,764 - stpipe.Detector1Pipeline.ramp_fit - INFO - RampFitStep instance created.\n",
      "2021-04-05 00:45:04,766 - stpipe.Detector1Pipeline.gain_scale - INFO - GainScaleStep instance created.\n",
      "2021-04-05 00:45:05,022 - stpipe - WARNING - /Users/cshanahan/miniconda3/envs/jwst-dev/lib/python3.8/site-packages/stpipe/step.py:359: ResourceWarning: unclosed file <_io.FileIO name='jw42424001001_01101_00001_nrca5_cal.fits' mode='rb' closefd=True>\n",
      "  gc.collect()\n",
      "\n",
      "2021-04-05 00:45:05,024 - stpipe - WARNING - /Users/cshanahan/miniconda3/envs/jwst-dev/lib/python3.8/site-packages/stpipe/step.py:359: ResourceWarning: unclosed file <_io.FileIO name='jw42424001001_01101_00001_nrca5_uncal.fits' mode='rb' closefd=True>\n",
      "  gc.collect()\n",
      "\n",
      "2021-04-05 00:45:05,060 - stpipe.Detector1Pipeline - INFO - Step Detector1Pipeline running with args ('jw42424001001_01101_00001_nrca5_uncal.fits',).\n",
      "2021-04-05 00:45:05,074 - stpipe.Detector1Pipeline - INFO - Step Detector1Pipeline parameters are: {'pre_hooks': [], 'post_hooks': [], 'output_file': None, 'output_dir': None, 'output_ext': '.fits', 'output_use_model': False, 'output_use_index': True, 'save_results': True, 'skip': False, 'suffix': None, 'search_output_file': True, 'input_dir': '', 'save_calibrated_ramp': False, 'steps': {'group_scale': {'pre_hooks': [], 'post_hooks': [], 'output_file': None, 'output_dir': None, 'output_ext': '.fits', 'output_use_model': False, 'output_use_index': True, 'save_results': False, 'skip': False, 'suffix': None, 'search_output_file': True, 'input_dir': ''}, 'dq_init': {'pre_hooks': [], 'post_hooks': [], 'output_file': None, 'output_dir': None, 'output_ext': '.fits', 'output_use_model': False, 'output_use_index': True, 'save_results': False, 'skip': False, 'suffix': None, 'search_output_file': True, 'input_dir': ''}, 'saturation': {'pre_hooks': [], 'post_hooks': [], 'output_file': None, 'output_dir': None, 'output_ext': '.fits', 'output_use_model': False, 'output_use_index': True, 'save_results': False, 'skip': False, 'suffix': None, 'search_output_file': True, 'input_dir': ''}, 'ipc': {'pre_hooks': [], 'post_hooks': [], 'output_file': None, 'output_dir': None, 'output_ext': '.fits', 'output_use_model': False, 'output_use_index': True, 'save_results': False, 'skip': True, 'suffix': None, 'search_output_file': True, 'input_dir': ''}, 'superbias': {'pre_hooks': [], 'post_hooks': [], 'output_file': None, 'output_dir': None, 'output_ext': '.fits', 'output_use_model': False, 'output_use_index': True, 'save_results': False, 'skip': False, 'suffix': None, 'search_output_file': True, 'input_dir': ''}, 'refpix': {'pre_hooks': [], 'post_hooks': [], 'output_file': None, 'output_dir': None, 'output_ext': '.fits', 'output_use_model': False, 'output_use_index': True, 'save_results': False, 'skip': False, 'suffix': None, 'search_output_file': True, 'input_dir': '', 'odd_even_columns': True, 'use_side_ref_pixels': True, 'side_smoothing_length': 11, 'side_gain': 1.0, 'odd_even_rows': True}, 'rscd': {'pre_hooks': [], 'post_hooks': [], 'output_file': None, 'output_dir': None, 'output_ext': '.fits', 'output_use_model': False, 'output_use_index': True, 'save_results': False, 'skip': False, 'suffix': None, 'search_output_file': True, 'input_dir': '', 'type': 'baseline'}, 'firstframe': {'pre_hooks': [], 'post_hooks': [], 'output_file': None, 'output_dir': None, 'output_ext': '.fits', 'output_use_model': False, 'output_use_index': True, 'save_results': False, 'skip': False, 'suffix': None, 'search_output_file': True, 'input_dir': ''}, 'lastframe': {'pre_hooks': [], 'post_hooks': [], 'output_file': None, 'output_dir': None, 'output_ext': '.fits', 'output_use_model': False, 'output_use_index': True, 'save_results': False, 'skip': False, 'suffix': None, 'search_output_file': True, 'input_dir': ''}, 'linearity': {'pre_hooks': [], 'post_hooks': [], 'output_file': None, 'output_dir': None, 'output_ext': '.fits', 'output_use_model': False, 'output_use_index': True, 'save_results': False, 'skip': False, 'suffix': None, 'search_output_file': True, 'input_dir': ''}, 'dark_current': {'pre_hooks': [], 'post_hooks': [], 'output_file': None, 'output_dir': None, 'output_ext': '.fits', 'output_use_model': False, 'output_use_index': True, 'save_results': False, 'skip': False, 'suffix': None, 'search_output_file': True, 'input_dir': '', 'dark_output': None}, 'reset': {'pre_hooks': [], 'post_hooks': [], 'output_file': None, 'output_dir': None, 'output_ext': '.fits', 'output_use_model': False, 'output_use_index': True, 'save_results': False, 'skip': False, 'suffix': None, 'search_output_file': True, 'input_dir': ''}, 'persistence': {'pre_hooks': [], 'post_hooks': [], 'output_file': None, 'output_dir': None, 'output_ext': '.fits', 'output_use_model': False, 'output_use_index': True, 'save_results': False, 'skip': False, 'suffix': None, 'search_output_file': True, 'input_dir': '', 'input_trapsfilled': '', 'flag_pers_cutoff': 40.0, 'save_persistence': False, 'save_trapsfilled': True}, 'jump': {'pre_hooks': [], 'post_hooks': [], 'output_file': None, 'output_dir': None, 'output_ext': '.fits', 'output_use_model': False, 'output_use_index': True, 'save_results': False, 'skip': False, 'suffix': None, 'search_output_file': True, 'input_dir': '', 'rejection_threshold': 4.0, 'maximum_cores': 'none', 'flag_4_neighbors': True, 'max_jump_to_flag_neighbors': 200.0, 'min_jump_to_flag_neighbors': 10.0}, 'ramp_fit': {'pre_hooks': [], 'post_hooks': [], 'output_file': None, 'output_dir': None, 'output_ext': '.fits', 'output_use_model': False, 'output_use_index': True, 'save_results': False, 'skip': False, 'suffix': None, 'search_output_file': True, 'input_dir': '', 'int_name': '', 'save_opt': False, 'opt_name': '', 'maximum_cores': 'none'}, 'gain_scale': {'pre_hooks': [], 'post_hooks': [], 'output_file': None, 'output_dir': None, 'output_ext': '.fits', 'output_use_model': False, 'output_use_index': True, 'save_results': False, 'skip': False, 'suffix': None, 'search_output_file': True, 'input_dir': ''}}}\n"
     ]
    },
    {
     "name": "stderr",
     "output_type": "stream",
     "text": [
      "2021-04-05 00:45:05,235 - stpipe.Detector1Pipeline - INFO - Prefetching reference files for dataset: 'jw42424001001_01101_00001_nrca5_uncal.fits' reftypes = ['dark', 'gain', 'linearity', 'mask', 'persat', 'readnoise', 'refpix', 'reset', 'rscd', 'saturation', 'superbias', 'trapdensity', 'trappars']\n",
      "2021-04-05 00:45:05,242 - stpipe.Detector1Pipeline - INFO - Prefetch for DARK reference file is '/Users/cshanahan/crds_cache/references/jwst/nircam/jwst_nircam_dark_0043.fits'.\n",
      "2021-04-05 00:45:05,243 - stpipe.Detector1Pipeline - INFO - Prefetch for GAIN reference file is '/Users/cshanahan/crds_cache/references/jwst/nircam/jwst_nircam_gain_0056.fits'.\n",
      "2021-04-05 00:45:05,244 - stpipe.Detector1Pipeline - INFO - Prefetch for LINEARITY reference file is '/Users/cshanahan/crds_cache/references/jwst/nircam/jwst_nircam_linearity_0052.fits'.\n",
      "2021-04-05 00:45:05,245 - stpipe.Detector1Pipeline - INFO - Prefetch for MASK reference file is '/Users/cshanahan/crds_cache/references/jwst/nircam/jwst_nircam_mask_0038.fits'.\n",
      "2021-04-05 00:45:05,246 - stpipe.Detector1Pipeline - INFO - Prefetch for PERSAT reference file is '/Users/cshanahan/crds_cache/references/jwst/nircam/jwst_nircam_persat_0016.fits'.\n",
      "2021-04-05 00:45:05,247 - stpipe.Detector1Pipeline - INFO - Prefetch for READNOISE reference file is '/Users/cshanahan/crds_cache/references/jwst/nircam/jwst_nircam_readnoise_0042.fits'.\n",
      "2021-04-05 00:45:05,248 - stpipe.Detector1Pipeline - INFO - Prefetch for REFPIX reference file is 'N/A'.\n",
      "2021-04-05 00:45:05,248 - stpipe.Detector1Pipeline - INFO - Prefetch for RESET reference file is 'N/A'.\n",
      "2021-04-05 00:45:05,249 - stpipe.Detector1Pipeline - INFO - Prefetch for RSCD reference file is 'N/A'.\n",
      "2021-04-05 00:45:05,250 - stpipe.Detector1Pipeline - INFO - Prefetch for SATURATION reference file is '/Users/cshanahan/crds_cache/references/jwst/nircam/jwst_nircam_saturation_0063.fits'.\n",
      "2021-04-05 00:45:05,251 - stpipe.Detector1Pipeline - INFO - Prefetch for SUPERBIAS reference file is '/Users/cshanahan/crds_cache/references/jwst/nircam/jwst_nircam_superbias_0022.fits'.\n",
      "2021-04-05 00:45:05,251 - stpipe.Detector1Pipeline - INFO - Prefetch for TRAPDENSITY reference file is '/Users/cshanahan/crds_cache/references/jwst/nircam/jwst_nircam_trapdensity_0004.fits'.\n",
      "2021-04-05 00:45:05,252 - stpipe.Detector1Pipeline - INFO - Prefetch for TRAPPARS reference file is '/Users/cshanahan/crds_cache/references/jwst/nircam/jwst_nircam_trappars_0002.fits'.\n",
      "2021-04-05 00:45:05,253 - stpipe.Detector1Pipeline - INFO - Starting calwebb_detector1 ...\n",
      "2021-04-05 00:45:05,626 - stpipe.Detector1Pipeline.group_scale - INFO - Step group_scale running with args (<RampModel(1, 7, 2048, 2048) from jw42424001001_01101_00001_nrca5_uncal.fits>,).\n",
      "2021-04-05 00:45:05,628 - stpipe.Detector1Pipeline.group_scale - INFO - Step group_scale parameters are: {'pre_hooks': [], 'post_hooks': [], 'output_file': None, 'output_dir': None, 'output_ext': '.fits', 'output_use_model': False, 'output_use_index': True, 'save_results': False, 'skip': False, 'suffix': None, 'search_output_file': True, 'input_dir': ''}\n",
      "2021-04-05 00:45:05,720 - stpipe.Detector1Pipeline.group_scale - INFO - NFRAMES=1 is a power of 2; correction not needed\n",
      "2021-04-05 00:45:05,721 - stpipe.Detector1Pipeline.group_scale - INFO - Step will be skipped\n",
      "2021-04-05 00:45:05,722 - stpipe.Detector1Pipeline.group_scale - INFO - Step group_scale done\n",
      "2021-04-05 00:45:05,845 - stpipe.Detector1Pipeline.dq_init - INFO - Step dq_init running with args (<RampModel(1, 7, 2048, 2048) from jw42424001001_01101_00001_nrca5_uncal.fits>,).\n",
      "2021-04-05 00:45:05,847 - stpipe.Detector1Pipeline.dq_init - INFO - Step dq_init parameters are: {'pre_hooks': [], 'post_hooks': [], 'output_file': None, 'output_dir': None, 'output_ext': '.fits', 'output_use_model': False, 'output_use_index': True, 'save_results': False, 'skip': False, 'suffix': None, 'search_output_file': True, 'input_dir': ''}\n",
      "2021-04-05 00:45:05,874 - stpipe.Detector1Pipeline.dq_init - INFO - Using MASK reference file /Users/cshanahan/crds_cache/references/jwst/nircam/jwst_nircam_mask_0038.fits\n",
      "2021-04-05 00:45:06,044 - stpipe.Detector1Pipeline.dq_init - WARNING - Keyword NOISY does not correspond to an existing DQ mnemonic, so will be ignored\n",
      "2021-04-05 00:45:06,151 - stpipe.Detector1Pipeline.dq_init - WARNING - Keyword WEIRD does not correspond to an existing DQ mnemonic, so will be ignored\n",
      "2021-04-05 00:45:06,299 - stpipe.Detector1Pipeline.dq_init - INFO - Step dq_init done\n",
      "2021-04-05 00:45:06,438 - stpipe.Detector1Pipeline.saturation - INFO - Step saturation running with args (<RampModel(1, 7, 2048, 2048) from jw42424001001_01101_00001_nrca5_uncal.fits>,).\n",
      "2021-04-05 00:45:06,440 - stpipe.Detector1Pipeline.saturation - INFO - Step saturation parameters are: {'pre_hooks': [], 'post_hooks': [], 'output_file': None, 'output_dir': None, 'output_ext': '.fits', 'output_use_model': False, 'output_use_index': True, 'save_results': False, 'skip': False, 'suffix': None, 'search_output_file': True, 'input_dir': ''}\n",
      "2021-04-05 00:45:06,466 - stpipe.Detector1Pipeline.saturation - INFO - Using SATURATION reference file /Users/cshanahan/crds_cache/references/jwst/nircam/jwst_nircam_saturation_0063.fits\n",
      "2021-04-05 00:45:06,551 - stpipe.Detector1Pipeline.saturation - WARNING - Keyword NO_SATURATION does not correspond to an existing DQ mnemonic, so will be ignored\n",
      "2021-04-05 00:45:06,552 - stpipe.Detector1Pipeline.saturation - WARNING - Keyword FEW_SAMPLES does not correspond to an existing DQ mnemonic, so will be ignored\n",
      "2021-04-05 00:45:06,553 - stpipe.Detector1Pipeline.saturation - WARNING - Keyword AD_SATURATION does not correspond to an existing DQ mnemonic, so will be ignored\n",
      "2021-04-05 00:45:06,554 - stpipe.Detector1Pipeline.saturation - WARNING - Keyword WEIRD_PIXEL does not correspond to an existing DQ mnemonic, so will be ignored\n",
      "2021-04-05 00:45:06,554 - stpipe.Detector1Pipeline.saturation - WARNING - Keyword DEAD_PIXEL does not correspond to an existing DQ mnemonic, so will be ignored\n",
      "2021-04-05 00:45:06,916 - stpipe.Detector1Pipeline.saturation - INFO - Detected 35212 saturated pixels\n",
      "2021-04-05 00:45:06,940 - stpipe.Detector1Pipeline.saturation - INFO - Detected 0 A/D floor pixels\n",
      "2021-04-05 00:45:06,946 - stpipe.Detector1Pipeline.saturation - INFO - Step saturation done\n",
      "2021-04-05 00:45:07,089 - stpipe.Detector1Pipeline.ipc - INFO - Step ipc running with args (<RampModel(1, 7, 2048, 2048) from jw42424001001_01101_00001_nrca5_uncal.fits>,).\n",
      "2021-04-05 00:45:07,091 - stpipe.Detector1Pipeline.ipc - INFO - Step ipc parameters are: {'pre_hooks': [], 'post_hooks': [], 'output_file': None, 'output_dir': None, 'output_ext': '.fits', 'output_use_model': False, 'output_use_index': True, 'save_results': False, 'skip': True, 'suffix': None, 'search_output_file': True, 'input_dir': ''}\n",
      "2021-04-05 00:45:07,092 - stpipe.Detector1Pipeline.ipc - INFO - Step skipped.\n",
      "2021-04-05 00:45:07,093 - stpipe.Detector1Pipeline.ipc - INFO - Step ipc done\n",
      "2021-04-05 00:45:07,210 - stpipe.Detector1Pipeline.superbias - INFO - Step superbias running with args (<RampModel(1, 7, 2048, 2048) from jw42424001001_01101_00001_nrca5_uncal.fits>,).\n",
      "2021-04-05 00:45:07,212 - stpipe.Detector1Pipeline.superbias - INFO - Step superbias parameters are: {'pre_hooks': [], 'post_hooks': [], 'output_file': None, 'output_dir': None, 'output_ext': '.fits', 'output_use_model': False, 'output_use_index': True, 'save_results': False, 'skip': False, 'suffix': None, 'search_output_file': True, 'input_dir': ''}\n",
      "2021-04-05 00:45:07,241 - stpipe.Detector1Pipeline.superbias - INFO - Using SUPERBIAS reference file /Users/cshanahan/crds_cache/references/jwst/nircam/jwst_nircam_superbias_0022.fits\n",
      "2021-04-05 00:45:07,402 - stpipe.Detector1Pipeline.superbias - WARNING - Keyword NOISY does not correspond to an existing DQ mnemonic, so will be ignored\n",
      "2021-04-05 00:45:07,502 - stpipe.Detector1Pipeline.superbias - INFO - Step superbias done\n",
      "2021-04-05 00:45:07,640 - stpipe.Detector1Pipeline.refpix - INFO - Step refpix running with args (<RampModel(1, 7, 2048, 2048) from jw42424001001_01101_00001_nrca5_uncal.fits>,).\n",
      "2021-04-05 00:45:07,642 - stpipe.Detector1Pipeline.refpix - INFO - Step refpix parameters are: {'pre_hooks': [], 'post_hooks': [], 'output_file': None, 'output_dir': None, 'output_ext': '.fits', 'output_use_model': False, 'output_use_index': True, 'save_results': False, 'skip': False, 'suffix': None, 'search_output_file': True, 'input_dir': '', 'odd_even_columns': True, 'use_side_ref_pixels': True, 'side_smoothing_length': 11, 'side_gain': 1.0, 'odd_even_rows': True}\n"
     ]
    },
    {
     "name": "stderr",
     "output_type": "stream",
     "text": [
      "2021-04-05 00:45:07,654 - stpipe.Detector1Pipeline.refpix - INFO - use_side_ref_pixels = True\n",
      "2021-04-05 00:45:07,655 - stpipe.Detector1Pipeline.refpix - INFO - odd_even_columns = True\n",
      "2021-04-05 00:45:07,655 - stpipe.Detector1Pipeline.refpix - INFO - side_smoothing_length = 11\n",
      "2021-04-05 00:45:07,656 - stpipe.Detector1Pipeline.refpix - INFO - side_gain = 1.000000\n",
      "2021-04-05 00:45:07,657 - stpipe.Detector1Pipeline.refpix - INFO - odd_even_rows = True\n",
      "2021-04-05 00:45:09,500 - stpipe.Detector1Pipeline.refpix - INFO - Step refpix done\n",
      "2021-04-05 00:45:09,631 - stpipe.Detector1Pipeline.linearity - INFO - Step linearity running with args (<RampModel(1, 7, 2048, 2048) from jw42424001001_01101_00001_nrca5_uncal.fits>,).\n",
      "2021-04-05 00:45:09,633 - stpipe.Detector1Pipeline.linearity - INFO - Step linearity parameters are: {'pre_hooks': [], 'post_hooks': [], 'output_file': None, 'output_dir': None, 'output_ext': '.fits', 'output_use_model': False, 'output_use_index': True, 'save_results': False, 'skip': False, 'suffix': None, 'search_output_file': True, 'input_dir': ''}\n",
      "2021-04-05 00:45:09,658 - stpipe.Detector1Pipeline.linearity - INFO - Using Linearity reference file /Users/cshanahan/crds_cache/references/jwst/nircam/jwst_nircam_linearity_0052.fits\n",
      "2021-04-05 00:45:09,787 - stpipe.Detector1Pipeline.linearity - WARNING - Keyword UAZ_DO_NOT_USE does not correspond to an existing DQ mnemonic, so will be ignored\n",
      "2021-04-05 00:45:09,788 - stpipe.Detector1Pipeline.linearity - WARNING - Keyword UAZ_NO_LIN_SAMP does not correspond to an existing DQ mnemonic, so will be ignored\n",
      "2021-04-05 00:45:09,789 - stpipe.Detector1Pipeline.linearity - WARNING - Keyword UAZ_BAD_LIN_FIT does not correspond to an existing DQ mnemonic, so will be ignored\n",
      "2021-04-05 00:45:09,789 - stpipe.Detector1Pipeline.linearity - WARNING - Keyword UAZ_NO_WELL_SAMP does not correspond to an existing DQ mnemonic, so will be ignored\n",
      "2021-04-05 00:45:09,790 - stpipe.Detector1Pipeline.linearity - WARNING - Keyword UAZ_MODEL_FIT_FAIL does not correspond to an existing DQ mnemonic, so will be ignored\n",
      "2021-04-05 00:45:09,791 - stpipe.Detector1Pipeline.linearity - WARNING - Keyword UAZ_WELL_NOT_DEFINED does not correspond to an existing DQ mnemonic, so will be ignored\n",
      "2021-04-05 00:45:09,791 - stpipe.Detector1Pipeline.linearity - WARNING - Keyword UAZ_MASTER_MASK does not correspond to an existing DQ mnemonic, so will be ignored\n",
      "2021-04-05 00:45:10,402 - stpipe.Detector1Pipeline.linearity - INFO - Step linearity done\n",
      "2021-04-05 00:45:10,542 - stpipe.Detector1Pipeline.persistence - INFO - Step persistence running with args (<RampModel(1, 7, 2048, 2048) from jw42424001001_01101_00001_nrca5_uncal.fits>,).\n",
      "2021-04-05 00:45:10,544 - stpipe.Detector1Pipeline.persistence - INFO - Step persistence parameters are: {'pre_hooks': [], 'post_hooks': [], 'output_file': None, 'output_dir': None, 'output_ext': '.fits', 'output_use_model': False, 'output_use_index': True, 'save_results': False, 'skip': False, 'suffix': None, 'search_output_file': True, 'input_dir': '', 'input_trapsfilled': '', 'flag_pers_cutoff': 40.0, 'save_persistence': False, 'save_trapsfilled': True}\n",
      "2021-04-05 00:45:10,776 - stpipe.Detector1Pipeline.persistence - WARNING - Keyword WEIRD_PIXEL does not correspond to an existing DQ mnemonic, so will be ignored\n",
      "2021-04-05 00:45:13,010 - stpipe.Detector1Pipeline.persistence - INFO - Saved model in jw42424001001_01101_00001_nrca5_trapsfilled.fits\n",
      "2021-04-05 00:45:13,012 - stpipe.Detector1Pipeline.persistence - INFO - Step persistence done\n",
      "2021-04-05 00:45:13,156 - stpipe.Detector1Pipeline.dark_current - INFO - Step dark_current running with args (<RampModel(1, 7, 2048, 2048) from jw42424001001_01101_00001_nrca5_uncal.fits>,).\n",
      "2021-04-05 00:45:13,158 - stpipe.Detector1Pipeline.dark_current - INFO - Step dark_current parameters are: {'pre_hooks': [], 'post_hooks': [], 'output_file': None, 'output_dir': None, 'output_ext': '.fits', 'output_use_model': False, 'output_use_index': True, 'save_results': False, 'skip': False, 'suffix': None, 'search_output_file': True, 'input_dir': '', 'dark_output': None}\n",
      "2021-04-05 00:45:13,182 - stpipe.Detector1Pipeline.dark_current - INFO - Using DARK reference file /Users/cshanahan/crds_cache/references/jwst/nircam/jwst_nircam_dark_0043.fits\n",
      "2021-04-05 00:45:14,831 - stpipe.Detector1Pipeline.dark_current - WARNING - Keyword HIGH_NOISE does not correspond to an existing DQ mnemonic, so will be ignored\n",
      "2021-04-05 00:45:14,833 - stpipe.Detector1Pipeline.dark_current - WARNING - Keyword UNSTABLE_NOISE does not correspond to an existing DQ mnemonic, so will be ignored\n",
      "2021-04-05 00:45:14,836 - stpipe.Detector1Pipeline.dark_current - INFO - Science data nints=1, ngroups=7, nframes=1, groupgap=1\n",
      "2021-04-05 00:45:14,837 - stpipe.Detector1Pipeline.dark_current - INFO - Dark data nints=1, ngroups=108, nframes=1, groupgap=0\n",
      "2021-04-05 00:45:15,461 - stpipe.Detector1Pipeline.dark_current - INFO - Step dark_current done\n",
      "2021-04-05 00:45:15,746 - stpipe.Detector1Pipeline.jump - INFO - Step jump running with args (<RampModel(1, 7, 2048, 2048) from jw42424001001_01101_00001_nrca5_uncal.fits>,).\n",
      "2021-04-05 00:45:15,748 - stpipe.Detector1Pipeline.jump - INFO - Step jump parameters are: {'pre_hooks': [], 'post_hooks': [], 'output_file': None, 'output_dir': None, 'output_ext': '.fits', 'output_use_model': False, 'output_use_index': True, 'save_results': False, 'skip': False, 'suffix': None, 'search_output_file': True, 'input_dir': '', 'rejection_threshold': 4.0, 'maximum_cores': 'none', 'flag_4_neighbors': True, 'max_jump_to_flag_neighbors': 200.0, 'min_jump_to_flag_neighbors': 10.0}\n",
      "2021-04-05 00:45:15,759 - stpipe.Detector1Pipeline.jump - INFO - CR rejection threshold = 4 sigma\n",
      "2021-04-05 00:45:15,773 - stpipe.Detector1Pipeline.jump - INFO - Using GAIN reference file: /Users/cshanahan/crds_cache/references/jwst/nircam/jwst_nircam_gain_0056.fits\n",
      "2021-04-05 00:45:15,813 - stpipe.Detector1Pipeline.jump - INFO - Using READNOISE reference file: /Users/cshanahan/crds_cache/references/jwst/nircam/jwst_nircam_readnoise_0042.fits\n",
      "2021-04-05 00:45:15,830 - stpipe.Detector1Pipeline.jump - INFO - Found 16 possible cores to use for jump detection \n",
      "2021-04-05 00:45:15,971 - stpipe.Detector1Pipeline.jump - INFO - Executing two-point difference method\n",
      "2021-04-05 00:45:16,215 - stpipe.Detector1Pipeline.jump - INFO - Working on integration 1:\n",
      "2021-04-05 00:45:17,097 - stpipe.Detector1Pipeline.jump - INFO - From highest outlier Two-point found 257892 pixels with at least one CR\n",
      "2021-04-05 00:45:25,288 - stpipe.Detector1Pipeline.jump - INFO - Total elapsed time = 9.31634 sec\n",
      "2021-04-05 00:45:25,290 - stpipe.Detector1Pipeline.jump - INFO - The execution time in seconds: 9.530316\n",
      "2021-04-05 00:45:25,291 - stpipe.Detector1Pipeline.jump - INFO - Step jump done\n",
      "2021-04-05 00:45:25,426 - stpipe.Detector1Pipeline.ramp_fit - INFO - Step ramp_fit running with args (<RampModel(1, 7, 2048, 2048) from jw42424001001_01101_00001_nrca5_uncal.fits>,).\n",
      "2021-04-05 00:45:25,428 - stpipe.Detector1Pipeline.ramp_fit - INFO - Step ramp_fit parameters are: {'pre_hooks': [], 'post_hooks': [], 'output_file': None, 'output_dir': None, 'output_ext': '.fits', 'output_use_model': False, 'output_use_index': True, 'save_results': False, 'skip': False, 'suffix': None, 'search_output_file': True, 'input_dir': '', 'int_name': '', 'save_opt': False, 'opt_name': '', 'maximum_cores': 'none'}\n",
      "2021-04-05 00:45:25,467 - stpipe.Detector1Pipeline.ramp_fit - INFO - Using READNOISE reference file: /Users/cshanahan/crds_cache/references/jwst/nircam/jwst_nircam_readnoise_0042.fits\n",
      "2021-04-05 00:45:25,484 - stpipe.Detector1Pipeline.ramp_fit - INFO - Using GAIN reference file: /Users/cshanahan/crds_cache/references/jwst/nircam/jwst_nircam_gain_0056.fits\n",
      "2021-04-05 00:45:25,511 - stpipe.Detector1Pipeline.ramp_fit - INFO - Using algorithm = ols\n",
      "2021-04-05 00:45:25,512 - stpipe.Detector1Pipeline.ramp_fit - INFO - Using weighting = optimal\n",
      "2021-04-05 00:45:51,054 - stpipe.Detector1Pipeline.ramp_fit - INFO - Number of groups per integration: 7\n",
      "2021-04-05 00:45:51,055 - stpipe.Detector1Pipeline.ramp_fit - INFO - Number of integrations: 1\n",
      "2021-04-05 00:45:51,190 - stpipe.Detector1Pipeline.ramp_fit - INFO - Step ramp_fit done\n"
     ]
    },
    {
     "name": "stderr",
     "output_type": "stream",
     "text": [
      "2021-04-05 00:45:51,327 - stpipe.Detector1Pipeline.gain_scale - INFO - Step gain_scale running with args (<ImageModel(2048, 2048) from jw42424001001_01101_00001_nrca5_uncal.fits>,).\n",
      "2021-04-05 00:45:51,329 - stpipe.Detector1Pipeline.gain_scale - INFO - Step gain_scale parameters are: {'pre_hooks': [], 'post_hooks': [], 'output_file': None, 'output_dir': None, 'output_ext': '.fits', 'output_use_model': False, 'output_use_index': True, 'save_results': False, 'skip': False, 'suffix': 'gain_scale', 'search_output_file': True, 'input_dir': ''}\n",
      "2021-04-05 00:45:51,384 - stpipe.Detector1Pipeline.gain_scale - INFO - GAINFACT not found in gain reference file\n",
      "2021-04-05 00:45:51,385 - stpipe.Detector1Pipeline.gain_scale - INFO - Step will be skipped\n",
      "2021-04-05 00:45:51,386 - stpipe.Detector1Pipeline.gain_scale - INFO - Step gain_scale done\n",
      "2021-04-05 00:45:51,539 - stpipe.Detector1Pipeline.gain_scale - INFO - Step gain_scale running with args (<CubeModel(1, 2048, 2048) from jw42424001001_01101_00001_nrca5_uncal.fits>,).\n",
      "2021-04-05 00:45:51,541 - stpipe.Detector1Pipeline.gain_scale - INFO - Step gain_scale parameters are: {'pre_hooks': [], 'post_hooks': [], 'output_file': None, 'output_dir': None, 'output_ext': '.fits', 'output_use_model': False, 'output_use_index': True, 'save_results': False, 'skip': False, 'suffix': 'gain_scaleints', 'search_output_file': True, 'input_dir': ''}\n",
      "2021-04-05 00:45:51,588 - stpipe.Detector1Pipeline.gain_scale - INFO - GAINFACT not found in gain reference file\n",
      "2021-04-05 00:45:51,589 - stpipe.Detector1Pipeline.gain_scale - INFO - Step will be skipped\n",
      "2021-04-05 00:45:51,590 - stpipe.Detector1Pipeline.gain_scale - INFO - Step gain_scale done\n",
      "2021-04-05 00:45:51,909 - stpipe.Detector1Pipeline - INFO - Saved model in jw42424001001_01101_00001_nrca5_rateints.fits\n",
      "2021-04-05 00:45:51,910 - stpipe.Detector1Pipeline - INFO - ... ending calwebb_detector1\n",
      "2021-04-05 00:45:52,233 - stpipe.Detector1Pipeline - INFO - Saved model in jw42424001001_01101_00001_nrca5_rate.fits\n",
      "2021-04-05 00:45:52,233 - stpipe.Detector1Pipeline - INFO - Step Detector1Pipeline done\n"
     ]
    }
   ],
   "source": [
    "result = pipe.call('jw42424001001_01101_00001_nrca5_uncal.fits', save_results=True)"
   ]
  },
  {
   "cell_type": "markdown",
   "metadata": {},
   "source": [
    "The calibrated data model contains information about how the pipeline was run - for example, you can see in `model.meta.cal_step` which steps were run (COMPLETE) and which were not (SKIPPED)."
   ]
  },
  {
   "cell_type": "code",
   "execution_count": 56,
   "metadata": {},
   "outputs": [
    {
     "name": "stderr",
     "output_type": "stream",
     "text": [
      "2021-04-01 02:05:01,448 - stpipe - WARNING - /Users/cshanahan/miniconda3/envs/jwst-dev/lib/python3.8/site-packages/ipykernel/ipkernel.py:287: DeprecationWarning: `should_run_async` will not call `transform_cell` automatically in the future. Please pass the result to `transformed_cell` argument and any exception that happen during thetransform in `preprocessing_exc_tuple` in IPython 7.17 and above.\n",
      "  and should_run_async(code)\n",
      "\n"
     ]
    },
    {
     "data": {
      "text/plain": [
       "{'dark_sub': 'COMPLETE',\n",
       " 'dq_init': 'COMPLETE',\n",
       " 'group_scale': 'SKIPPED',\n",
       " 'jump': 'COMPLETE',\n",
       " 'linearity': 'COMPLETE',\n",
       " 'persistence': 'COMPLETE',\n",
       " 'refpix': 'COMPLETE',\n",
       " 'saturation': 'COMPLETE',\n",
       " 'superbias': 'COMPLETE',\n",
       " 'ramp_fit': 'COMPLETE',\n",
       " 'gain_scale': 'SKIPPED'}"
      ]
     },
     "execution_count": 56,
     "metadata": {},
     "output_type": "execute_result"
    }
   ],
   "source": [
    "result.meta.cal_step.instance"
   ]
  },
  {
   "cell_type": "markdown",
   "metadata": {},
   "source": [
    "You can also inspect the names of the reference files that were used:"
   ]
  },
  {
   "cell_type": "code",
   "execution_count": 50,
   "metadata": {},
   "outputs": [
    {
     "data": {
      "text/plain": [
       "{'crds': {'sw_version': '10.3.5', 'context_used': 'jwst_0704.pmap'},\n",
       " 'dark': {'name': 'crds://jwst_nircam_dark_0043.fits'},\n",
       " 'gain': {'name': 'crds://jwst_nircam_gain_0056.fits'},\n",
       " 'linearity': {'name': 'crds://jwst_nircam_linearity_0052.fits'},\n",
       " 'mask': {'name': 'crds://jwst_nircam_mask_0038.fits'},\n",
       " 'persat': {'name': 'crds://jwst_nircam_persat_0016.fits'},\n",
       " 'readnoise': {'name': 'crds://jwst_nircam_readnoise_0042.fits'},\n",
       " 'saturation': {'name': 'crds://jwst_nircam_saturation_0063.fits'},\n",
       " 'superbias': {'name': 'crds://jwst_nircam_superbias_0022.fits'},\n",
       " 'trapdensity': {'name': 'crds://jwst_nircam_trapdensity_0004.fits'},\n",
       " 'trappars': {'name': 'crds://jwst_nircam_trappars_0002.fits'}}"
      ]
     },
     "execution_count": 50,
     "metadata": {},
     "output_type": "execute_result"
    }
   ],
   "source": [
    "result.meta.ref_file.instance"
   ]
  },
  {
   "cell_type": "markdown",
   "metadata": {},
   "source": [
    "#### Example 2: Running a Single Pipeline Step (LinearityStep) on a NIRCAM image <a class=\"anchor\" id=\"5b\"></a>\n",
    "\n",
    "In the first example, the full Detector1Pipeline was run on the input `uncal` date. We can run the steps that comprise this pipeline individually, for example, the `Linearity Step`. Running a pipeline step is done in the exact same way: import the step, create an instance of it, and use the `call` method. In this case, we will not set `save_results` to True so no intermediate output will be written, only a `DataModel` with `LinearityStep` will be returned in memory."
   ]
  },
  {
   "cell_type": "code",
   "execution_count": 76,
   "metadata": {},
   "outputs": [
    {
     "name": "stderr",
     "output_type": "stream",
     "text": [
      "2021-04-01 23:29:52,221 - stpipe - WARNING - /Users/cshanahan/miniconda3/envs/jwst-dev/lib/python3.8/site-packages/ipykernel/ipkernel.py:287: DeprecationWarning: `should_run_async` will not call `transform_cell` automatically in the future. Please pass the result to `transformed_cell` argument and any exception that happen during thetransform in `preprocessing_exc_tuple` in IPython 7.17 and above.\n",
      "  and should_run_async(code)\n",
      "\n",
      "2021-04-01 23:29:52,227 - stpipe.LinearityStep - INFO - LinearityStep instance created.\n",
      "2021-04-01 23:29:52,525 - stpipe.LinearityStep - INFO - LinearityStep instance created.\n",
      "2021-04-01 23:29:52,751 - stpipe - WARNING - /Users/cshanahan/miniconda3/envs/jwst-dev/lib/python3.8/site-packages/stpipe/step.py:359: ResourceWarning: unclosed file <_io.FileIO name='jw42424001001_01101_00001_nrca5_uncal.fits' mode='rb' closefd=True>\n",
      "  gc.collect()\n",
      "\n",
      "2021-04-01 23:29:52,800 - stpipe.LinearityStep - INFO - Step LinearityStep running with args ('jw42424001001_01101_00001_nrca5_uncal.fits',).\n",
      "2021-04-01 23:29:52,802 - stpipe.LinearityStep - INFO - Step LinearityStep parameters are: {'pre_hooks': [], 'post_hooks': [], 'output_file': None, 'output_dir': None, 'output_ext': '.fits', 'output_use_model': False, 'output_use_index': True, 'save_results': False, 'skip': False, 'suffix': None, 'search_output_file': True, 'input_dir': ''}\n",
      "2021-04-01 23:29:52,977 - stpipe.LinearityStep - INFO - Using Linearity reference file /Users/cshanahan/crds_cache/references/jwst/nircam/jwst_nircam_linearity_0052.fits\n",
      "2021-04-01 23:29:53,139 - stpipe.LinearityStep - WARNING - Keyword UAZ_DO_NOT_USE does not correspond to an existing DQ mnemonic, so will be ignored\n",
      "2021-04-01 23:29:53,140 - stpipe.LinearityStep - WARNING - Keyword UAZ_NO_LIN_SAMP does not correspond to an existing DQ mnemonic, so will be ignored\n",
      "2021-04-01 23:29:53,141 - stpipe.LinearityStep - WARNING - Keyword UAZ_BAD_LIN_FIT does not correspond to an existing DQ mnemonic, so will be ignored\n",
      "2021-04-01 23:29:53,142 - stpipe.LinearityStep - WARNING - Keyword UAZ_NO_WELL_SAMP does not correspond to an existing DQ mnemonic, so will be ignored\n",
      "2021-04-01 23:29:53,142 - stpipe.LinearityStep - WARNING - Keyword UAZ_MODEL_FIT_FAIL does not correspond to an existing DQ mnemonic, so will be ignored\n",
      "2021-04-01 23:29:53,143 - stpipe.LinearityStep - WARNING - Keyword UAZ_WELL_NOT_DEFINED does not correspond to an existing DQ mnemonic, so will be ignored\n",
      "2021-04-01 23:29:53,144 - stpipe.LinearityStep - WARNING - Keyword UAZ_MASTER_MASK does not correspond to an existing DQ mnemonic, so will be ignored\n",
      "2021-04-01 23:29:53,822 - stpipe.LinearityStep - INFO - Step LinearityStep done\n"
     ]
    }
   ],
   "source": [
    "from jwst.linearity import LinearityStep\n",
    "\n",
    "step = LinearityStep()\n",
    "\n",
    "lin_corr_im = step.call('jw42424001001_01101_00001_nrca5_uncal.fits')"
   ]
  },
  {
   "cell_type": "markdown",
   "metadata": {},
   "source": [
    "#### Options when Running the Pipeline in Python: 'call' vs 'run' methods <a class=\"anchor\" id=\"5c\"></a>\n",
    "\n",
    "In the above examples, we used the `pipe.call` method to run the pipeline. If you look at the available methods, you may be confused to see `pipe.call` and `pipe.run` - both of these names imply that when called, they should process the data. There is, however, a distinction. For example, if you create a `Detector1Pipeline` instance like the above example,\n",
    "\n",
    "    >> pipe = Detector1Pipeline()\n",
    "    \n",
    "`pipe.run('input_file.fits)` or, equivilantly \n",
    "    \n",
    "\n",
    "    \n",
    "\n",
    "Both `call` and `run` (as well as the private `__call__`) eventually execute the `run` method, but `call` does additional setup. The main distinction is that `run` uses the class you instantiated, so you can directly modify parameters that are represented as attributes of this class, while `call` creates a new class of the same type internally and relies on parameter files to direct processing. Because `run` is on the class itself, `pipe.run` is equivilant to calling the class directly `pipe()`. The `call` method will look in CRDS for a parameter file, or you may pass a local parameter file that you've customized as input. \n",
    "\n",
    "`call` is configurable via parameter files, `run` is configurable via setting the attributes directly. The only time `run` is suggested is if you don't wish to use parameter files at all. It is generally recommended that `call`, and therefore CRDS or custom parameter files, is used when running the pipeline.\n",
    "\n",
    "#### Example 3: Using `run` Instead of `call` to run Detector1Pipeline on NIRCAM image.  <a class=\"anchor\" id=\"5d\"></a>\n",
    "In this example, we will use the `run` method to run the `Image2Pipeline`. Parameters are set directly on the insance of `Image2Pipeline`, config files aren't used."
   ]
  },
  {
   "cell_type": "code",
   "execution_count": 82,
   "metadata": {},
   "outputs": [
    {
     "name": "stderr",
     "output_type": "stream",
     "text": [
      "2021-04-02 00:02:21,840 - stpipe - WARNING - /Users/cshanahan/miniconda3/envs/jwst-dev/lib/python3.8/site-packages/ipykernel/ipkernel.py:287: DeprecationWarning: `should_run_async` will not call `transform_cell` automatically in the future. Please pass the result to `transformed_cell` argument and any exception that happen during thetransform in `preprocessing_exc_tuple` in IPython 7.17 and above.\n",
      "  and should_run_async(code)\n",
      "\n",
      "2021-04-02 00:02:21,847 - stpipe.Image2Pipeline - INFO - Image2Pipeline instance created.\n",
      "2021-04-02 00:02:21,849 - stpipe.Image2Pipeline.bkg_subtract - INFO - BackgroundStep instance created.\n",
      "2021-04-02 00:02:21,851 - stpipe.Image2Pipeline.assign_wcs - INFO - AssignWcsStep instance created.\n",
      "2021-04-02 00:02:21,853 - stpipe.Image2Pipeline.flat_field - INFO - FlatFieldStep instance created.\n",
      "2021-04-02 00:02:21,855 - stpipe.Image2Pipeline.photom - INFO - PhotomStep instance created.\n",
      "2021-04-02 00:02:21,857 - stpipe.Image2Pipeline.resample - INFO - ResampleStep instance created.\n"
     ]
    }
   ],
   "source": [
    "from jwst.pipeline import Image2Pipeline\n",
    "\n",
    "# save_results has to be set here, because now we're calling this class directly \n",
    "pipe2 = Image2Pipeline(save_results=True)"
   ]
  },
  {
   "cell_type": "code",
   "execution_count": 117,
   "metadata": {},
   "outputs": [
    {
     "name": "stderr",
     "output_type": "stream",
     "text": [
      "2021-04-05 09:58:59,676 - stpipe.Image2Pipeline - INFO - Step Image2Pipeline running with args ('jw42424001001_01101_00001_nrca5_rate.fits',).\n"
     ]
    },
    {
     "ename": "ValidationError",
     "evalue": "Config parameter 'suffix': the value \"False\" is of the wrong type.",
     "output_type": "error",
     "traceback": [
      "\u001b[0;31m---------------------------------------------------------------------------\u001b[0m",
      "\u001b[0;31mValidationError\u001b[0m                           Traceback (most recent call last)",
      "\u001b[0;32m<ipython-input-117-98c31449d9cb>\u001b[0m in \u001b[0;36m<module>\u001b[0;34m\u001b[0m\n\u001b[0;32m----> 1\u001b[0;31m \u001b[0mresult2\u001b[0m \u001b[0;34m=\u001b[0m \u001b[0mpipe2\u001b[0m\u001b[0;34m.\u001b[0m\u001b[0mrun\u001b[0m\u001b[0;34m(\u001b[0m\u001b[0;34m'jw42424001001_01101_00001_nrca5_rate.fits'\u001b[0m\u001b[0;34m)\u001b[0m\u001b[0;34m\u001b[0m\u001b[0;34m\u001b[0m\u001b[0m\n\u001b[0m",
      "\u001b[0;32m~/miniconda3/envs/jwst-dev/lib/python3.8/site-packages/stpipe/step.py\u001b[0m in \u001b[0;36mrun\u001b[0;34m(self, *args)\u001b[0m\n\u001b[1;32m    370\u001b[0m \u001b[0;34m\u001b[0m\u001b[0m\n\u001b[1;32m    371\u001b[0m         self.log.info(\n\u001b[0;32m--> 372\u001b[0;31m             \u001b[0;34mf'Step {self.name} parameters are: {self.get_pars()}'\u001b[0m\u001b[0;34m\u001b[0m\u001b[0;34m\u001b[0m\u001b[0m\n\u001b[0m\u001b[1;32m    373\u001b[0m         )\n\u001b[1;32m    374\u001b[0m \u001b[0;34m\u001b[0m\u001b[0m\n",
      "\u001b[0;32m~/miniconda3/envs/jwst-dev/lib/python3.8/site-packages/stpipe/pipeline.py\u001b[0m in \u001b[0;36mget_pars\u001b[0;34m(self, full_spec)\u001b[0m\n\u001b[1;32m    307\u001b[0m             \u001b[0mKeys\u001b[0m \u001b[0mare\u001b[0m \u001b[0mthe\u001b[0m \u001b[0mparameters\u001b[0m \u001b[0;32mand\u001b[0m \u001b[0mvalues\u001b[0m \u001b[0mare\u001b[0m \u001b[0mthe\u001b[0m \u001b[0mvalues\u001b[0m\u001b[0;34m.\u001b[0m\u001b[0;34m\u001b[0m\u001b[0;34m\u001b[0m\u001b[0m\n\u001b[1;32m    308\u001b[0m         \"\"\"\n\u001b[0;32m--> 309\u001b[0;31m         \u001b[0mpars\u001b[0m \u001b[0;34m=\u001b[0m \u001b[0msuper\u001b[0m\u001b[0;34m(\u001b[0m\u001b[0;34m)\u001b[0m\u001b[0;34m.\u001b[0m\u001b[0mget_pars\u001b[0m\u001b[0;34m(\u001b[0m\u001b[0mfull_spec\u001b[0m\u001b[0;34m=\u001b[0m\u001b[0mfull_spec\u001b[0m\u001b[0;34m)\u001b[0m\u001b[0;34m\u001b[0m\u001b[0;34m\u001b[0m\u001b[0m\n\u001b[0m\u001b[1;32m    310\u001b[0m         \u001b[0mpars\u001b[0m\u001b[0;34m[\u001b[0m\u001b[0;34m'steps'\u001b[0m\u001b[0;34m]\u001b[0m \u001b[0;34m=\u001b[0m \u001b[0;34m{\u001b[0m\u001b[0;34m}\u001b[0m\u001b[0;34m\u001b[0m\u001b[0;34m\u001b[0m\u001b[0m\n\u001b[1;32m    311\u001b[0m         \u001b[0;32mfor\u001b[0m \u001b[0mstep_name\u001b[0m\u001b[0;34m,\u001b[0m \u001b[0mstep_class\u001b[0m \u001b[0;32min\u001b[0m \u001b[0mself\u001b[0m\u001b[0;34m.\u001b[0m\u001b[0mstep_defs\u001b[0m\u001b[0;34m.\u001b[0m\u001b[0mitems\u001b[0m\u001b[0;34m(\u001b[0m\u001b[0;34m)\u001b[0m\u001b[0;34m:\u001b[0m\u001b[0;34m\u001b[0m\u001b[0;34m\u001b[0m\u001b[0m\n",
      "\u001b[0;32m~/miniconda3/envs/jwst-dev/lib/python3.8/site-packages/stpipe/step.py\u001b[0m in \u001b[0;36mget_pars\u001b[0;34m(self, full_spec)\u001b[0m\n\u001b[1;32m   1205\u001b[0m                 \u001b[0mvalue\u001b[0m \u001b[0;34m=\u001b[0m \u001b[0mgetattr\u001b[0m\u001b[0;34m(\u001b[0m\u001b[0mself\u001b[0m\u001b[0;34m,\u001b[0m \u001b[0mkey\u001b[0m\u001b[0;34m)\u001b[0m\u001b[0;34m\u001b[0m\u001b[0;34m\u001b[0m\u001b[0m\n\u001b[1;32m   1206\u001b[0m                 \u001b[0minstance_pars\u001b[0m\u001b[0;34m[\u001b[0m\u001b[0mkey\u001b[0m\u001b[0;34m]\u001b[0m \u001b[0;34m=\u001b[0m \u001b[0mvalue\u001b[0m\u001b[0;34m\u001b[0m\u001b[0;34m\u001b[0m\u001b[0m\n\u001b[0;32m-> 1207\u001b[0;31m         \u001b[0mpars\u001b[0m \u001b[0;34m=\u001b[0m \u001b[0mconfig_parser\u001b[0m\u001b[0;34m.\u001b[0m\u001b[0mconfig_from_dict\u001b[0m\u001b[0;34m(\u001b[0m\u001b[0minstance_pars\u001b[0m\u001b[0;34m,\u001b[0m \u001b[0mspec\u001b[0m\u001b[0;34m,\u001b[0m \u001b[0mallow_missing\u001b[0m\u001b[0;34m=\u001b[0m\u001b[0;32mTrue\u001b[0m\u001b[0;34m)\u001b[0m\u001b[0;34m\u001b[0m\u001b[0;34m\u001b[0m\u001b[0m\n\u001b[0m\u001b[1;32m   1208\u001b[0m \u001b[0;34m\u001b[0m\u001b[0m\n\u001b[1;32m   1209\u001b[0m         \u001b[0;31m# Convert the config to a pure dict.\u001b[0m\u001b[0;34m\u001b[0m\u001b[0;34m\u001b[0m\u001b[0;34m\u001b[0m\u001b[0m\n",
      "\u001b[0;32m~/miniconda3/envs/jwst-dev/lib/python3.8/site-packages/stpipe/config_parser.py\u001b[0m in \u001b[0;36mconfig_from_dict\u001b[0;34m(d, spec, root_dir, allow_missing)\u001b[0m\n\u001b[1;32m    272\u001b[0m \u001b[0;34m\u001b[0m\u001b[0m\n\u001b[1;32m    273\u001b[0m     \u001b[0;32mif\u001b[0m \u001b[0mspec\u001b[0m\u001b[0;34m:\u001b[0m\u001b[0;34m\u001b[0m\u001b[0;34m\u001b[0m\u001b[0m\n\u001b[0;32m--> 274\u001b[0;31m         \u001b[0mvalidate\u001b[0m\u001b[0;34m(\u001b[0m\u001b[0mconfig\u001b[0m\u001b[0;34m,\u001b[0m \u001b[0mspec\u001b[0m\u001b[0;34m,\u001b[0m \u001b[0mroot_dir\u001b[0m\u001b[0;34m=\u001b[0m\u001b[0mroot_dir\u001b[0m\u001b[0;34m,\u001b[0m \u001b[0mallow_missing\u001b[0m\u001b[0;34m=\u001b[0m\u001b[0mallow_missing\u001b[0m\u001b[0;34m)\u001b[0m\u001b[0;34m\u001b[0m\u001b[0;34m\u001b[0m\u001b[0m\n\u001b[0m\u001b[1;32m    275\u001b[0m     \u001b[0;32melse\u001b[0m\u001b[0;34m:\u001b[0m\u001b[0;34m\u001b[0m\u001b[0;34m\u001b[0m\u001b[0m\n\u001b[1;32m    276\u001b[0m         \u001b[0mconfig\u001b[0m\u001b[0;34m.\u001b[0m\u001b[0mwalk\u001b[0m\u001b[0;34m(\u001b[0m\u001b[0mstring_to_python_type\u001b[0m\u001b[0;34m)\u001b[0m\u001b[0;34m\u001b[0m\u001b[0;34m\u001b[0m\u001b[0m\n",
      "\u001b[0;32m~/miniconda3/envs/jwst-dev/lib/python3.8/site-packages/stpipe/config_parser.py\u001b[0m in \u001b[0;36mvalidate\u001b[0;34m(config, spec, section, validator, root_dir, allow_missing)\u001b[0m\n\u001b[1;32m    361\u001b[0m \u001b[0;34m\u001b[0m\u001b[0m\n\u001b[1;32m    362\u001b[0m         \u001b[0;32mif\u001b[0m \u001b[0mlen\u001b[0m\u001b[0;34m(\u001b[0m\u001b[0mmessages\u001b[0m\u001b[0;34m)\u001b[0m\u001b[0;34m:\u001b[0m\u001b[0;34m\u001b[0m\u001b[0;34m\u001b[0m\u001b[0m\n\u001b[0;32m--> 363\u001b[0;31m             \u001b[0;32mraise\u001b[0m \u001b[0mValidationError\u001b[0m\u001b[0;34m(\u001b[0m\u001b[0;34m'\\n'\u001b[0m\u001b[0;34m.\u001b[0m\u001b[0mjoin\u001b[0m\u001b[0;34m(\u001b[0m\u001b[0mmessages\u001b[0m\u001b[0;34m)\u001b[0m\u001b[0;34m)\u001b[0m\u001b[0;34m\u001b[0m\u001b[0;34m\u001b[0m\u001b[0m\n\u001b[0m\u001b[1;32m    364\u001b[0m     \u001b[0;32mfinally\u001b[0m\u001b[0;34m:\u001b[0m\u001b[0;34m\u001b[0m\u001b[0;34m\u001b[0m\u001b[0m\n\u001b[1;32m    365\u001b[0m         \u001b[0mconfig\u001b[0m\u001b[0;34m.\u001b[0m\u001b[0mmain\u001b[0m\u001b[0;34m.\u001b[0m\u001b[0mconfigspec\u001b[0m \u001b[0;34m=\u001b[0m \u001b[0morig_configspec\u001b[0m\u001b[0;34m\u001b[0m\u001b[0;34m\u001b[0m\u001b[0m\n",
      "\u001b[0;31mValidationError\u001b[0m: Config parameter 'suffix': the value \"False\" is of the wrong type."
     ]
    }
   ],
   "source": [
    "result2 = pipe2.run('jw42424001001_01101_00001_nrca5_rate.fits')"
   ]
  },
  {
   "cell_type": "markdown",
   "metadata": {},
   "source": [
    "Or, identically, calling the pipeline obj directly which invokes the `run` method."
   ]
  },
  {
   "cell_type": "code",
   "execution_count": 116,
   "metadata": {},
   "outputs": [
    {
     "name": "stderr",
     "output_type": "stream",
     "text": [
      "2021-04-05 09:58:51,342 - stpipe.Image2Pipeline - INFO - Step Image2Pipeline running with args ('jw42424001001_01101_00001_nrca5_rate.fits',).\n"
     ]
    },
    {
     "ename": "ValidationError",
     "evalue": "Config parameter 'suffix': the value \"False\" is of the wrong type.",
     "output_type": "error",
     "traceback": [
      "\u001b[0;31m---------------------------------------------------------------------------\u001b[0m",
      "\u001b[0;31mValidationError\u001b[0m                           Traceback (most recent call last)",
      "\u001b[0;32m<ipython-input-116-41c4b81203ef>\u001b[0m in \u001b[0;36m<module>\u001b[0;34m\u001b[0m\n\u001b[0;32m----> 1\u001b[0;31m \u001b[0mresult2\u001b[0m \u001b[0;34m=\u001b[0m \u001b[0mpipe2\u001b[0m\u001b[0;34m(\u001b[0m\u001b[0;34m'jw42424001001_01101_00001_nrca5_rate.fits'\u001b[0m\u001b[0;34m)\u001b[0m\u001b[0;34m\u001b[0m\u001b[0;34m\u001b[0m\u001b[0m\n\u001b[0m",
      "\u001b[0;32m~/miniconda3/envs/jwst-dev/lib/python3.8/site-packages/stpipe/step.py\u001b[0m in \u001b[0;36mrun\u001b[0;34m(self, *args)\u001b[0m\n\u001b[1;32m    370\u001b[0m \u001b[0;34m\u001b[0m\u001b[0m\n\u001b[1;32m    371\u001b[0m         self.log.info(\n\u001b[0;32m--> 372\u001b[0;31m             \u001b[0;34mf'Step {self.name} parameters are: {self.get_pars()}'\u001b[0m\u001b[0;34m\u001b[0m\u001b[0;34m\u001b[0m\u001b[0m\n\u001b[0m\u001b[1;32m    373\u001b[0m         )\n\u001b[1;32m    374\u001b[0m \u001b[0;34m\u001b[0m\u001b[0m\n",
      "\u001b[0;32m~/miniconda3/envs/jwst-dev/lib/python3.8/site-packages/stpipe/pipeline.py\u001b[0m in \u001b[0;36mget_pars\u001b[0;34m(self, full_spec)\u001b[0m\n\u001b[1;32m    307\u001b[0m             \u001b[0mKeys\u001b[0m \u001b[0mare\u001b[0m \u001b[0mthe\u001b[0m \u001b[0mparameters\u001b[0m \u001b[0;32mand\u001b[0m \u001b[0mvalues\u001b[0m \u001b[0mare\u001b[0m \u001b[0mthe\u001b[0m \u001b[0mvalues\u001b[0m\u001b[0;34m.\u001b[0m\u001b[0;34m\u001b[0m\u001b[0;34m\u001b[0m\u001b[0m\n\u001b[1;32m    308\u001b[0m         \"\"\"\n\u001b[0;32m--> 309\u001b[0;31m         \u001b[0mpars\u001b[0m \u001b[0;34m=\u001b[0m \u001b[0msuper\u001b[0m\u001b[0;34m(\u001b[0m\u001b[0;34m)\u001b[0m\u001b[0;34m.\u001b[0m\u001b[0mget_pars\u001b[0m\u001b[0;34m(\u001b[0m\u001b[0mfull_spec\u001b[0m\u001b[0;34m=\u001b[0m\u001b[0mfull_spec\u001b[0m\u001b[0;34m)\u001b[0m\u001b[0;34m\u001b[0m\u001b[0;34m\u001b[0m\u001b[0m\n\u001b[0m\u001b[1;32m    310\u001b[0m         \u001b[0mpars\u001b[0m\u001b[0;34m[\u001b[0m\u001b[0;34m'steps'\u001b[0m\u001b[0;34m]\u001b[0m \u001b[0;34m=\u001b[0m \u001b[0;34m{\u001b[0m\u001b[0;34m}\u001b[0m\u001b[0;34m\u001b[0m\u001b[0;34m\u001b[0m\u001b[0m\n\u001b[1;32m    311\u001b[0m         \u001b[0;32mfor\u001b[0m \u001b[0mstep_name\u001b[0m\u001b[0;34m,\u001b[0m \u001b[0mstep_class\u001b[0m \u001b[0;32min\u001b[0m \u001b[0mself\u001b[0m\u001b[0;34m.\u001b[0m\u001b[0mstep_defs\u001b[0m\u001b[0;34m.\u001b[0m\u001b[0mitems\u001b[0m\u001b[0;34m(\u001b[0m\u001b[0;34m)\u001b[0m\u001b[0;34m:\u001b[0m\u001b[0;34m\u001b[0m\u001b[0;34m\u001b[0m\u001b[0m\n",
      "\u001b[0;32m~/miniconda3/envs/jwst-dev/lib/python3.8/site-packages/stpipe/step.py\u001b[0m in \u001b[0;36mget_pars\u001b[0;34m(self, full_spec)\u001b[0m\n\u001b[1;32m   1205\u001b[0m                 \u001b[0mvalue\u001b[0m \u001b[0;34m=\u001b[0m \u001b[0mgetattr\u001b[0m\u001b[0;34m(\u001b[0m\u001b[0mself\u001b[0m\u001b[0;34m,\u001b[0m \u001b[0mkey\u001b[0m\u001b[0;34m)\u001b[0m\u001b[0;34m\u001b[0m\u001b[0;34m\u001b[0m\u001b[0m\n\u001b[1;32m   1206\u001b[0m                 \u001b[0minstance_pars\u001b[0m\u001b[0;34m[\u001b[0m\u001b[0mkey\u001b[0m\u001b[0;34m]\u001b[0m \u001b[0;34m=\u001b[0m \u001b[0mvalue\u001b[0m\u001b[0;34m\u001b[0m\u001b[0;34m\u001b[0m\u001b[0m\n\u001b[0;32m-> 1207\u001b[0;31m         \u001b[0mpars\u001b[0m \u001b[0;34m=\u001b[0m \u001b[0mconfig_parser\u001b[0m\u001b[0;34m.\u001b[0m\u001b[0mconfig_from_dict\u001b[0m\u001b[0;34m(\u001b[0m\u001b[0minstance_pars\u001b[0m\u001b[0;34m,\u001b[0m \u001b[0mspec\u001b[0m\u001b[0;34m,\u001b[0m \u001b[0mallow_missing\u001b[0m\u001b[0;34m=\u001b[0m\u001b[0;32mTrue\u001b[0m\u001b[0;34m)\u001b[0m\u001b[0;34m\u001b[0m\u001b[0;34m\u001b[0m\u001b[0m\n\u001b[0m\u001b[1;32m   1208\u001b[0m \u001b[0;34m\u001b[0m\u001b[0m\n\u001b[1;32m   1209\u001b[0m         \u001b[0;31m# Convert the config to a pure dict.\u001b[0m\u001b[0;34m\u001b[0m\u001b[0;34m\u001b[0m\u001b[0;34m\u001b[0m\u001b[0m\n",
      "\u001b[0;32m~/miniconda3/envs/jwst-dev/lib/python3.8/site-packages/stpipe/config_parser.py\u001b[0m in \u001b[0;36mconfig_from_dict\u001b[0;34m(d, spec, root_dir, allow_missing)\u001b[0m\n\u001b[1;32m    272\u001b[0m \u001b[0;34m\u001b[0m\u001b[0m\n\u001b[1;32m    273\u001b[0m     \u001b[0;32mif\u001b[0m \u001b[0mspec\u001b[0m\u001b[0;34m:\u001b[0m\u001b[0;34m\u001b[0m\u001b[0;34m\u001b[0m\u001b[0m\n\u001b[0;32m--> 274\u001b[0;31m         \u001b[0mvalidate\u001b[0m\u001b[0;34m(\u001b[0m\u001b[0mconfig\u001b[0m\u001b[0;34m,\u001b[0m \u001b[0mspec\u001b[0m\u001b[0;34m,\u001b[0m \u001b[0mroot_dir\u001b[0m\u001b[0;34m=\u001b[0m\u001b[0mroot_dir\u001b[0m\u001b[0;34m,\u001b[0m \u001b[0mallow_missing\u001b[0m\u001b[0;34m=\u001b[0m\u001b[0mallow_missing\u001b[0m\u001b[0;34m)\u001b[0m\u001b[0;34m\u001b[0m\u001b[0;34m\u001b[0m\u001b[0m\n\u001b[0m\u001b[1;32m    275\u001b[0m     \u001b[0;32melse\u001b[0m\u001b[0;34m:\u001b[0m\u001b[0;34m\u001b[0m\u001b[0;34m\u001b[0m\u001b[0m\n\u001b[1;32m    276\u001b[0m         \u001b[0mconfig\u001b[0m\u001b[0;34m.\u001b[0m\u001b[0mwalk\u001b[0m\u001b[0;34m(\u001b[0m\u001b[0mstring_to_python_type\u001b[0m\u001b[0;34m)\u001b[0m\u001b[0;34m\u001b[0m\u001b[0;34m\u001b[0m\u001b[0m\n",
      "\u001b[0;32m~/miniconda3/envs/jwst-dev/lib/python3.8/site-packages/stpipe/config_parser.py\u001b[0m in \u001b[0;36mvalidate\u001b[0;34m(config, spec, section, validator, root_dir, allow_missing)\u001b[0m\n\u001b[1;32m    361\u001b[0m \u001b[0;34m\u001b[0m\u001b[0m\n\u001b[1;32m    362\u001b[0m         \u001b[0;32mif\u001b[0m \u001b[0mlen\u001b[0m\u001b[0;34m(\u001b[0m\u001b[0mmessages\u001b[0m\u001b[0;34m)\u001b[0m\u001b[0;34m:\u001b[0m\u001b[0;34m\u001b[0m\u001b[0;34m\u001b[0m\u001b[0m\n\u001b[0;32m--> 363\u001b[0;31m             \u001b[0;32mraise\u001b[0m \u001b[0mValidationError\u001b[0m\u001b[0;34m(\u001b[0m\u001b[0;34m'\\n'\u001b[0m\u001b[0;34m.\u001b[0m\u001b[0mjoin\u001b[0m\u001b[0;34m(\u001b[0m\u001b[0mmessages\u001b[0m\u001b[0;34m)\u001b[0m\u001b[0;34m)\u001b[0m\u001b[0;34m\u001b[0m\u001b[0;34m\u001b[0m\u001b[0m\n\u001b[0m\u001b[1;32m    364\u001b[0m     \u001b[0;32mfinally\u001b[0m\u001b[0;34m:\u001b[0m\u001b[0;34m\u001b[0m\u001b[0;34m\u001b[0m\u001b[0m\n\u001b[1;32m    365\u001b[0m         \u001b[0mconfig\u001b[0m\u001b[0;34m.\u001b[0m\u001b[0mmain\u001b[0m\u001b[0;34m.\u001b[0m\u001b[0mconfigspec\u001b[0m \u001b[0;34m=\u001b[0m \u001b[0morig_configspec\u001b[0m\u001b[0;34m\u001b[0m\u001b[0;34m\u001b[0m\u001b[0m\n",
      "\u001b[0;31mValidationError\u001b[0m: Config parameter 'suffix': the value \"False\" is of the wrong type."
     ]
    }
   ],
   "source": [
    "result2 = pipe2('jw42424001001_01101_00001_nrca5_rate.fits')"
   ]
  },
  {
   "cell_type": "markdown",
   "metadata": {},
   "source": [
    "## Configuring the Pipeline in Python<a class=\"anchor\" id=\"6\"></a>\n",
    "\n",
    "As mentioned above, the parameter file is the basis of how pipelines/steps are configured - the parameter files in CRDS correspond to the 'best' set of parameters as chosen by the JWST instrument teams - but users are free to change any of these values when running the pipeline. There are a number of ways to do this when running the pipeline in Python.\n",
    "\n",
    "Because there are multiple locations in which a parameter value may be specified (parameter file, coded defaults, setting the attributes on the pipe/step class directly, and command line paramater overriding which will be introduced later), the pipeline uses hierarchy rules to determine which value are used if they are specified in multiple locations.\n",
    "\n",
    "1. Value specified in command line, or set on class directly when using ``pipe.run()`` or `pipe()`.\n",
    "2. Value in user-provided parameter file.\n",
    "3. Value in CRDS parameter file.\n",
    "4. `Step`-coded default, determined by the parameter definition `Step.spec`\n",
    "\n",
    "Let's go through a few examples of this. The output `rate` file from the last example can be run through the [Image2Pipeline](https://jwst-pipeline.readthedocs.io/en/latest/jwst/pipeline/calwebb_image2.html), which applies several calibtration steps including flat fielding and assigning a WCS. When this pipeline is run, the resulting data product is a `cal` file.\n",
    "\n",
    "Again, begin by importing the desired pipeline or step, in this case `Image3Pipeline`, and creating an instance of it `pipe3`:"
   ]
  },
  {
   "cell_type": "code",
   "execution_count": 101,
   "metadata": {},
   "outputs": [
    {
     "name": "stderr",
     "output_type": "stream",
     "text": [
      "2021-04-05 00:48:02,899 - stpipe - WARNING - /Users/cshanahan/miniconda3/envs/jwst-dev/lib/python3.8/site-packages/ipykernel/ipkernel.py:287: DeprecationWarning: `should_run_async` will not call `transform_cell` automatically in the future. Please pass the result to `transformed_cell` argument and any exception that happen during thetransform in `preprocessing_exc_tuple` in IPython 7.17 and above.\n",
      "  and should_run_async(code)\n",
      "\n"
     ]
    }
   ],
   "source": [
    "from jwst.pipeline import Image3Pipeline\n",
    "pipe3 = Image3Pipeline()"
   ]
  },
  {
   "cell_type": "markdown",
   "metadata": {},
   "source": [
    "If we run it just like this without making any modifications, the corresponding parameter file will be obtained from CRDS and those values will be used. If you look at the logging output, you'll see one of the first lines indicates that the file `jwst_nircam_pars-tweakregstep_0006.asdf` is being used."
   ]
  },
  {
   "cell_type": "code",
   "execution_count": 127,
   "metadata": {},
   "outputs": [
    {
     "name": "stderr",
     "output_type": "stream",
     "text": [
      "2021-04-09 00:21:08,054 - stpipe.Image2Pipeline - INFO - PARS-TWEAKREGSTEP parameters found: /Users/cshanahan/crds_cache/references/jwst/nircam/jwst_nircam_pars-tweakregstep_0006.asdf\n",
      "2021-04-09 00:21:08,068 - stpipe.Image2Pipeline - INFO - PARS-TWEAKREGSTEP parameters are {'brightest': 100, 'catalog_format': 'ecsv', 'enforce_user_order': False, 'expand_refcat': False, 'fitgeometry': 'general', 'kernel_fwhm': 2.302, 'minobj': 15, 'nclip': 3, 'save_catalogs': False, 'searchrad': 1.0, 'separation': 0.5, 'sigma': 3.0, 'snr_threshold': 10, 'tolerance': 1.0, 'use2dhist': True, 'xoffset': 0.0, 'yoffset': 0.0}\n",
      "2021-04-09 00:21:08,137 - stpipe.Image3Pipeline - INFO - Image3Pipeline instance created.\n",
      "2021-04-09 00:21:08,138 - stpipe.Image3Pipeline.assign_mtwcs - INFO - AssignMTWcsStep instance created.\n",
      "2021-04-09 00:21:08,141 - stpipe.Image3Pipeline.tweakreg - INFO - TweakRegStep instance created.\n",
      "2021-04-09 00:21:08,145 - stpipe.Image3Pipeline.skymatch - INFO - SkyMatchStep instance created.\n",
      "2021-04-09 00:21:08,147 - stpipe.Image3Pipeline.outlier_detection - INFO - OutlierDetectionStep instance created.\n",
      "2021-04-09 00:21:08,150 - stpipe.Image3Pipeline.resample - INFO - ResampleStep instance created.\n",
      "2021-04-09 00:21:08,152 - stpipe.Image3Pipeline.source_catalog - INFO - SourceCatalogStep instance created.\n",
      "2021-04-09 00:21:08,480 - stpipe.Image2Pipeline - WARNING - /Users/cshanahan/miniconda3/envs/jwst-dev/lib/python3.8/site-packages/stpipe/step.py:359: ResourceWarning: unclosed file <_io.FileIO name='jw42424001001_01101_00001_nrca5_cal.fits' mode='rb' closefd=True>\n",
      "  gc.collect()\n",
      "\n",
      "2021-04-09 00:21:08,483 - stpipe.Image3Pipeline - INFO - Step Image3Pipeline running with args ('jw42424001001_01101_00001_nrca5_cal.fits',).\n",
      "2021-04-09 00:21:08,495 - stpipe.Image3Pipeline - INFO - Step Image3Pipeline parameters are: {'pre_hooks': [], 'post_hooks': [], 'output_file': None, 'output_dir': None, 'output_ext': '.fits', 'output_use_model': False, 'output_use_index': True, 'save_results': False, 'skip': False, 'suffix': None, 'search_output_file': True, 'input_dir': '', 'steps': {'assign_mtwcs': {'pre_hooks': [], 'post_hooks': [], 'output_file': None, 'output_dir': None, 'output_ext': '.fits', 'output_use_model': True, 'output_use_index': True, 'save_results': False, 'skip': False, 'suffix': 'assign_mtwcs', 'search_output_file': True, 'input_dir': ''}, 'tweakreg': {'pre_hooks': [], 'post_hooks': [], 'output_file': None, 'output_dir': None, 'output_ext': '.fits', 'output_use_model': False, 'output_use_index': True, 'save_results': False, 'skip': False, 'suffix': None, 'search_output_file': True, 'input_dir': '', 'save_catalogs': False, 'catalog_format': 'ecsv', 'kernel_fwhm': 2.302, 'snr_threshold': 10, 'brightest': 100, 'peakmax': None, 'enforce_user_order': False, 'expand_refcat': False, 'minobj': 15, 'searchrad': 1.0, 'use2dhist': True, 'separation': 0.5, 'tolerance': 1.0, 'xoffset': 0.0, 'yoffset': 0.0, 'fitgeometry': 'general', 'nclip': 3, 'sigma': 3.0, 'align_to_gaia': False, 'gaia_catalog': 'GAIADR2', 'min_gaia': 5, 'save_gaia_catalog': False}, 'skymatch': {'pre_hooks': [], 'post_hooks': [], 'output_file': None, 'output_dir': None, 'output_ext': '.fits', 'output_use_model': False, 'output_use_index': True, 'save_results': False, 'skip': False, 'suffix': None, 'search_output_file': True, 'input_dir': '', 'skymethod': 'global+match', 'match_down': True, 'subtract': False, 'stepsize': None, 'skystat': 'mode', 'dqbits': '0', 'lower': None, 'upper': None, 'nclip': 5, 'lsigma': 4.0, 'usigma': 4.0, 'binwidth': 0.1}, 'outlier_detection': {'pre_hooks': [], 'post_hooks': [], 'output_file': None, 'output_dir': None, 'output_ext': '.fits', 'output_use_model': False, 'output_use_index': True, 'save_results': False, 'skip': False, 'suffix': None, 'search_output_file': False, 'input_dir': '', 'weight_type': 'ivm', 'pixfrac': 1.0, 'kernel': 'square', 'fillval': 'INDEF', 'nlow': 0, 'nhigh': 0, 'maskpt': 0.7, 'grow': 1, 'snr': '4.0 3.0', 'scale': '0.5 0.4', 'backg': 0.0, 'save_intermediate_results': False, 'resample_data': True, 'good_bits': '~DO_NOT_USE', 'scale_detection': False, 'allowed_memory': None}, 'resample': {'pre_hooks': [], 'post_hooks': [], 'output_file': None, 'output_dir': None, 'output_ext': '.fits', 'output_use_model': False, 'output_use_index': True, 'save_results': False, 'skip': False, 'suffix': None, 'search_output_file': True, 'input_dir': '', 'pixfrac': 1.0, 'kernel': 'square', 'fillval': 'INDEF', 'weight_type': 'ivm', 'pixel_scale_ratio': 1.0, 'single': False, 'blendheaders': True, 'allowed_memory': None}, 'source_catalog': {'pre_hooks': [], 'post_hooks': [], 'output_file': None, 'output_dir': None, 'output_ext': '.fits', 'output_use_model': False, 'output_use_index': True, 'save_results': False, 'skip': False, 'suffix': 'cat', 'search_output_file': True, 'input_dir': '', 'bkg_boxsize': 100, 'kernel_fwhm': 2.0, 'snr_threshold': 3.0, 'npixels': 5, 'deblend': False, 'aperture_ee1': 30, 'aperture_ee2': 50, 'aperture_ee3': 70, 'ci1_star_threshold': 2.0, 'ci2_star_threshold': 1.8}}}\n",
      "2021-04-09 00:21:08,642 - stpipe.Image3Pipeline - INFO - Prefetching reference files for dataset: 'jw42424001001_01101_00001_nrca5_cal.fits' reftypes = ['abvegaoffset', 'apcorr', 'drizpars']\n",
      "2021-04-09 00:21:08,648 - stpipe.Image3Pipeline - INFO - Prefetch for ABVEGAOFFSET reference file is '/Users/cshanahan/crds_cache/references/jwst/nircam/jwst_nircam_abvegaoffset_0001.asdf'.\n",
      "2021-04-09 00:21:08,649 - stpipe.Image3Pipeline - INFO - Prefetch for APCORR reference file is '/Users/cshanahan/crds_cache/references/jwst/nircam/jwst_nircam_apcorr_0004.fits'.\n",
      "2021-04-09 00:21:08,650 - stpipe.Image3Pipeline - INFO - Prefetch for DRIZPARS reference file is '/Users/cshanahan/crds_cache/references/jwst/nircam/jwst_nircam_drizpars_0001.fits'.\n",
      "2021-04-09 00:21:08,651 - stpipe.Image3Pipeline - INFO - Starting calwebb_image3 ...\n",
      "2021-04-09 00:21:08,880 - stpipe.Image3Pipeline.skymatch - INFO - Step skymatch running with args (<ImageModel(2048, 2048) from jw42424001001_01101_00001_nrca5_cal.fits>,).\n",
      "2021-04-09 00:21:08,883 - stpipe.Image3Pipeline.skymatch - INFO - Step skymatch parameters are: {'pre_hooks': [], 'post_hooks': [], 'output_file': None, 'output_dir': None, 'output_ext': '.fits', 'output_use_model': False, 'output_use_index': True, 'save_results': False, 'skip': False, 'suffix': None, 'search_output_file': True, 'input_dir': '', 'skymethod': 'global+match', 'match_down': True, 'subtract': False, 'stepsize': None, 'skystat': 'mode', 'dqbits': '0', 'lower': None, 'upper': None, 'nclip': 5, 'lsigma': 4.0, 'usigma': 4.0, 'binwidth': 0.1}\n"
     ]
    },
    {
     "ename": "TypeError",
     "evalue": "Input <ImageModel(2048, 2048) from jw42424001001_01101_00001_nrca5_cal.fits> is not a list of DataModels or an ASN file",
     "output_type": "error",
     "traceback": [
      "\u001b[0;31m---------------------------------------------------------------------------\u001b[0m",
      "\u001b[0;31mTypeError\u001b[0m                                 Traceback (most recent call last)",
      "\u001b[0;32m<ipython-input-127-2bf2dc883083>\u001b[0m in \u001b[0;36m<module>\u001b[0;34m\u001b[0m\n\u001b[0;32m----> 1\u001b[0;31m \u001b[0mresult3\u001b[0m \u001b[0;34m=\u001b[0m \u001b[0mpipe3\u001b[0m\u001b[0;34m.\u001b[0m\u001b[0mcall\u001b[0m\u001b[0;34m(\u001b[0m\u001b[0;34m'jw42424001001_01101_00001_nrca5_cal.fits'\u001b[0m\u001b[0;34m)\u001b[0m\u001b[0;34m\u001b[0m\u001b[0;34m\u001b[0m\u001b[0m\n\u001b[0m",
      "\u001b[0;32m~/miniconda3/envs/jwst-dev/lib/python3.8/site-packages/stpipe/step.py\u001b[0m in \u001b[0;36mcall\u001b[0;34m(cls, *args, **kwargs)\u001b[0m\n\u001b[1;32m    587\u001b[0m             name=name, config_file=config_file)\n\u001b[1;32m    588\u001b[0m \u001b[0;34m\u001b[0m\u001b[0m\n\u001b[0;32m--> 589\u001b[0;31m         \u001b[0;32mreturn\u001b[0m \u001b[0minstance\u001b[0m\u001b[0;34m.\u001b[0m\u001b[0mrun\u001b[0m\u001b[0;34m(\u001b[0m\u001b[0;34m*\u001b[0m\u001b[0margs\u001b[0m\u001b[0;34m)\u001b[0m\u001b[0;34m\u001b[0m\u001b[0;34m\u001b[0m\u001b[0m\n\u001b[0m\u001b[1;32m    590\u001b[0m \u001b[0;34m\u001b[0m\u001b[0m\n\u001b[1;32m    591\u001b[0m     \u001b[0;34m@\u001b[0m\u001b[0mproperty\u001b[0m\u001b[0;34m\u001b[0m\u001b[0;34m\u001b[0m\u001b[0m\n",
      "\u001b[0;32m~/miniconda3/envs/jwst-dev/lib/python3.8/site-packages/stpipe/step.py\u001b[0m in \u001b[0;36mrun\u001b[0;34m(self, *args)\u001b[0m\n\u001b[1;32m    405\u001b[0m                     \u001b[0mself\u001b[0m\u001b[0;34m.\u001b[0m\u001b[0mprefetch\u001b[0m\u001b[0;34m(\u001b[0m\u001b[0;34m*\u001b[0m\u001b[0margs\u001b[0m\u001b[0;34m)\u001b[0m\u001b[0;34m\u001b[0m\u001b[0;34m\u001b[0m\u001b[0m\n\u001b[1;32m    406\u001b[0m                 \u001b[0;32mtry\u001b[0m\u001b[0;34m:\u001b[0m\u001b[0;34m\u001b[0m\u001b[0;34m\u001b[0m\u001b[0m\n\u001b[0;32m--> 407\u001b[0;31m                     \u001b[0mstep_result\u001b[0m \u001b[0;34m=\u001b[0m \u001b[0mself\u001b[0m\u001b[0;34m.\u001b[0m\u001b[0mprocess\u001b[0m\u001b[0;34m(\u001b[0m\u001b[0;34m*\u001b[0m\u001b[0margs\u001b[0m\u001b[0;34m)\u001b[0m\u001b[0;34m\u001b[0m\u001b[0;34m\u001b[0m\u001b[0m\n\u001b[0m\u001b[1;32m    408\u001b[0m                 \u001b[0;32mexcept\u001b[0m \u001b[0mTypeError\u001b[0m \u001b[0;32mas\u001b[0m \u001b[0me\u001b[0m\u001b[0;34m:\u001b[0m\u001b[0;34m\u001b[0m\u001b[0;34m\u001b[0m\u001b[0m\n\u001b[1;32m    409\u001b[0m                     \u001b[0;32mif\u001b[0m \u001b[0;34m\"process() takes exactly\"\u001b[0m \u001b[0;32min\u001b[0m \u001b[0mstr\u001b[0m\u001b[0;34m(\u001b[0m\u001b[0me\u001b[0m\u001b[0;34m)\u001b[0m\u001b[0;34m:\u001b[0m\u001b[0;34m\u001b[0m\u001b[0;34m\u001b[0m\u001b[0m\n",
      "\u001b[0;32m~/packages/jwst/jwst/pipeline/calwebb_image3.py\u001b[0m in \u001b[0;36mprocess\u001b[0;34m(self, input_data)\u001b[0m\n\u001b[1;32m     93\u001b[0m \u001b[0;34m\u001b[0m\u001b[0m\n\u001b[1;32m     94\u001b[0m             \u001b[0;32melse\u001b[0m\u001b[0;34m:\u001b[0m\u001b[0;34m\u001b[0m\u001b[0;34m\u001b[0m\u001b[0m\n\u001b[0;32m---> 95\u001b[0;31m                 \u001b[0minput_models\u001b[0m \u001b[0;34m=\u001b[0m \u001b[0mself\u001b[0m\u001b[0;34m.\u001b[0m\u001b[0mskymatch\u001b[0m\u001b[0;34m(\u001b[0m\u001b[0minput_models\u001b[0m\u001b[0;34m)\u001b[0m\u001b[0;34m\u001b[0m\u001b[0;34m\u001b[0m\u001b[0m\n\u001b[0m\u001b[1;32m     96\u001b[0m \u001b[0;34m\u001b[0m\u001b[0m\n\u001b[1;32m     97\u001b[0m             \u001b[0mresult\u001b[0m \u001b[0;34m=\u001b[0m \u001b[0mself\u001b[0m\u001b[0;34m.\u001b[0m\u001b[0mresample\u001b[0m\u001b[0;34m(\u001b[0m\u001b[0minput_models\u001b[0m\u001b[0;34m)\u001b[0m\u001b[0;34m\u001b[0m\u001b[0;34m\u001b[0m\u001b[0m\n",
      "\u001b[0;32m~/miniconda3/envs/jwst-dev/lib/python3.8/site-packages/stpipe/step.py\u001b[0m in \u001b[0;36mrun\u001b[0;34m(self, *args)\u001b[0m\n\u001b[1;32m    405\u001b[0m                     \u001b[0mself\u001b[0m\u001b[0;34m.\u001b[0m\u001b[0mprefetch\u001b[0m\u001b[0;34m(\u001b[0m\u001b[0;34m*\u001b[0m\u001b[0margs\u001b[0m\u001b[0;34m)\u001b[0m\u001b[0;34m\u001b[0m\u001b[0;34m\u001b[0m\u001b[0m\n\u001b[1;32m    406\u001b[0m                 \u001b[0;32mtry\u001b[0m\u001b[0;34m:\u001b[0m\u001b[0;34m\u001b[0m\u001b[0;34m\u001b[0m\u001b[0m\n\u001b[0;32m--> 407\u001b[0;31m                     \u001b[0mstep_result\u001b[0m \u001b[0;34m=\u001b[0m \u001b[0mself\u001b[0m\u001b[0;34m.\u001b[0m\u001b[0mprocess\u001b[0m\u001b[0;34m(\u001b[0m\u001b[0;34m*\u001b[0m\u001b[0margs\u001b[0m\u001b[0;34m)\u001b[0m\u001b[0;34m\u001b[0m\u001b[0;34m\u001b[0m\u001b[0m\n\u001b[0m\u001b[1;32m    408\u001b[0m                 \u001b[0;32mexcept\u001b[0m \u001b[0mTypeError\u001b[0m \u001b[0;32mas\u001b[0m \u001b[0me\u001b[0m\u001b[0;34m:\u001b[0m\u001b[0;34m\u001b[0m\u001b[0;34m\u001b[0m\u001b[0m\n\u001b[1;32m    409\u001b[0m                     \u001b[0;32mif\u001b[0m \u001b[0;34m\"process() takes exactly\"\u001b[0m \u001b[0;32min\u001b[0m \u001b[0mstr\u001b[0m\u001b[0;34m(\u001b[0m\u001b[0me\u001b[0m\u001b[0;34m)\u001b[0m\u001b[0;34m:\u001b[0m\u001b[0;34m\u001b[0m\u001b[0;34m\u001b[0m\u001b[0m\n",
      "\u001b[0;32m~/packages/jwst/jwst/skymatch/skymatch_step.py\u001b[0m in \u001b[0;36mprocess\u001b[0;34m(self, input)\u001b[0m\n\u001b[1;32m     57\u001b[0m     \u001b[0;32mdef\u001b[0m \u001b[0mprocess\u001b[0m\u001b[0;34m(\u001b[0m\u001b[0mself\u001b[0m\u001b[0;34m,\u001b[0m \u001b[0minput\u001b[0m\u001b[0;34m)\u001b[0m\u001b[0;34m:\u001b[0m\u001b[0;34m\u001b[0m\u001b[0;34m\u001b[0m\u001b[0m\n\u001b[1;32m     58\u001b[0m         \u001b[0mself\u001b[0m\u001b[0;34m.\u001b[0m\u001b[0mlog\u001b[0m\u001b[0;34m.\u001b[0m\u001b[0msetLevel\u001b[0m\u001b[0;34m(\u001b[0m\u001b[0mlogging\u001b[0m\u001b[0;34m.\u001b[0m\u001b[0mDEBUG\u001b[0m\u001b[0;34m)\u001b[0m\u001b[0;34m\u001b[0m\u001b[0;34m\u001b[0m\u001b[0m\n\u001b[0;32m---> 59\u001b[0;31m         \u001b[0mimg\u001b[0m \u001b[0;34m=\u001b[0m \u001b[0mdatamodels\u001b[0m\u001b[0;34m.\u001b[0m\u001b[0mModelContainer\u001b[0m\u001b[0;34m(\u001b[0m\u001b[0minput\u001b[0m\u001b[0;34m)\u001b[0m\u001b[0;34m\u001b[0m\u001b[0;34m\u001b[0m\u001b[0m\n\u001b[0m\u001b[1;32m     60\u001b[0m \u001b[0;34m\u001b[0m\u001b[0m\n\u001b[1;32m     61\u001b[0m         \u001b[0mself\u001b[0m\u001b[0;34m.\u001b[0m\u001b[0m_dqbits\u001b[0m \u001b[0;34m=\u001b[0m \u001b[0minterpret_bit_flags\u001b[0m\u001b[0;34m(\u001b[0m\u001b[0mself\u001b[0m\u001b[0;34m.\u001b[0m\u001b[0mdqbits\u001b[0m\u001b[0;34m)\u001b[0m\u001b[0;34m\u001b[0m\u001b[0;34m\u001b[0m\u001b[0m\n",
      "\u001b[0;32m~/packages/jwst/jwst/datamodels/container.py\u001b[0m in \u001b[0;36m__init__\u001b[0;34m(self, init, asn_exptypes, asn_n_members, iscopy, **kwargs)\u001b[0m\n\u001b[1;32m    119\u001b[0m             \u001b[0mself\u001b[0m\u001b[0;34m.\u001b[0m\u001b[0mfrom_asn\u001b[0m\u001b[0;34m(\u001b[0m\u001b[0minit_from_asn\u001b[0m\u001b[0;34m,\u001b[0m \u001b[0masn_file_path\u001b[0m\u001b[0;34m=\u001b[0m\u001b[0minit\u001b[0m\u001b[0;34m)\u001b[0m\u001b[0;34m\u001b[0m\u001b[0;34m\u001b[0m\u001b[0m\n\u001b[1;32m    120\u001b[0m         \u001b[0;32melse\u001b[0m\u001b[0;34m:\u001b[0m\u001b[0;34m\u001b[0m\u001b[0;34m\u001b[0m\u001b[0m\n\u001b[0;32m--> 121\u001b[0;31m             raise TypeError('Input {0!r} is not a list of DataModels or '\n\u001b[0m\u001b[1;32m    122\u001b[0m                             'an ASN file'.format(init))\n\u001b[1;32m    123\u001b[0m \u001b[0;34m\u001b[0m\u001b[0m\n",
      "\u001b[0;31mTypeError\u001b[0m: Input <ImageModel(2048, 2048) from jw42424001001_01101_00001_nrca5_cal.fits> is not a list of DataModels or an ASN file"
     ]
    }
   ],
   "source": [
    "result3 = pipe3.call('jw42424001001_01101_00001_nrca5_cal.fits')"
   ]
  },
  {
   "cell_type": "markdown",
   "metadata": {},
   "source": [
    "In the cwd, we have the file `'my_custom_parfile_tweakregstep.asdf'`. This file is in the exact same format as `jwst_nircam_pars-tweakregstep_0006.asdf`, but some of the values for the tweakreg step have been changed. We can direct `Image3Pipeline` to run with these values instead by setting the `config_file` argument to the path of our custom refence file, in this case just config_file = my_custom_parfile_tweakregstep.asdf. "
   ]
  },
  {
   "cell_type": "code",
   "execution_count": 99,
   "metadata": {},
   "outputs": [
    {
     "name": "stderr",
     "output_type": "stream",
     "text": [
      "2021-04-05 00:33:10,895 - stpipe - WARNING - /Users/cshanahan/miniconda3/envs/jwst-dev/lib/python3.8/site-packages/ipykernel/ipkernel.py:287: DeprecationWarning: `should_run_async` will not call `transform_cell` automatically in the future. Please pass the result to `transformed_cell` argument and any exception that happen during thetransform in `preprocessing_exc_tuple` in IPython 7.17 and above.\n",
      "  and should_run_async(code)\n",
      "\n",
      "2021-04-05 00:33:11,066 - stpipe - INFO - PARS-TWEAKREGSTEP parameters found: /Users/cshanahan/crds_cache/references/jwst/nircam/jwst_nircam_pars-tweakregstep_0006.asdf\n",
      "2021-04-05 00:33:11,076 - stpipe - INFO - PARS-TWEAKREGSTEP parameters are {'brightest': 100, 'catalog_format': 'ecsv', 'enforce_user_order': False, 'expand_refcat': False, 'fitgeometry': 'general', 'kernel_fwhm': 2.302, 'minobj': 15, 'nclip': 3, 'save_catalogs': False, 'searchrad': 1.0, 'separation': 0.5, 'sigma': 3.0, 'snr_threshold': 10, 'tolerance': 1.0, 'use2dhist': True, 'xoffset': 0.0, 'yoffset': 0.0}\n"
     ]
    },
    {
     "ename": "ValidationError",
     "evalue": "Extra value 'brightest' in root",
     "output_type": "error",
     "traceback": [
      "\u001b[0;31m---------------------------------------------------------------------------\u001b[0m",
      "\u001b[0;31mValidationError\u001b[0m                           Traceback (most recent call last)",
      "\u001b[0;32m<ipython-input-99-e59f054e2b2a>\u001b[0m in \u001b[0;36m<module>\u001b[0;34m\u001b[0m\n\u001b[0;32m----> 1\u001b[0;31m result3_myparfile = pipe3.call('jw42424001001_01101_00001_nrca5_cal.fits',\n\u001b[0m\u001b[1;32m      2\u001b[0m                                config_file='my_custom_parfile_tweakregstep.asdf')\n",
      "\u001b[0;32m~/miniconda3/envs/jwst-dev/lib/python3.8/site-packages/stpipe/step.py\u001b[0m in \u001b[0;36mcall\u001b[0;34m(cls, *args, **kwargs)\u001b[0m\n\u001b[1;32m    584\u001b[0m \u001b[0;34m\u001b[0m\u001b[0m\n\u001b[1;32m    585\u001b[0m         \u001b[0mname\u001b[0m \u001b[0;34m=\u001b[0m \u001b[0mcrds_config\u001b[0m\u001b[0;34m.\u001b[0m\u001b[0mget\u001b[0m\u001b[0;34m(\u001b[0m\u001b[0;34m'name'\u001b[0m\u001b[0;34m,\u001b[0m \u001b[0;32mNone\u001b[0m\u001b[0;34m)\u001b[0m\u001b[0;34m\u001b[0m\u001b[0;34m\u001b[0m\u001b[0m\n\u001b[0;32m--> 586\u001b[0;31m         instance = cls.from_config_section(crds_config,\n\u001b[0m\u001b[1;32m    587\u001b[0m             name=name, config_file=config_file)\n\u001b[1;32m    588\u001b[0m \u001b[0;34m\u001b[0m\u001b[0m\n",
      "\u001b[0;32m~/miniconda3/envs/jwst-dev/lib/python3.8/site-packages/stpipe/step.py\u001b[0m in \u001b[0;36mfrom_config_section\u001b[0;34m(cls, config, parent, name, config_file)\u001b[0m\n\u001b[1;32m    247\u001b[0m         \u001b[0mspec\u001b[0m \u001b[0;34m=\u001b[0m \u001b[0mcls\u001b[0m\u001b[0;34m.\u001b[0m\u001b[0mload_spec_file\u001b[0m\u001b[0;34m(\u001b[0m\u001b[0;34m)\u001b[0m\u001b[0;34m\u001b[0m\u001b[0;34m\u001b[0m\u001b[0m\n\u001b[1;32m    248\u001b[0m         \u001b[0mconfig\u001b[0m \u001b[0;34m=\u001b[0m \u001b[0mcls\u001b[0m\u001b[0;34m.\u001b[0m\u001b[0mmerge_config\u001b[0m\u001b[0;34m(\u001b[0m\u001b[0mconfig\u001b[0m\u001b[0;34m,\u001b[0m \u001b[0mconfig_file\u001b[0m\u001b[0;34m)\u001b[0m\u001b[0;34m\u001b[0m\u001b[0;34m\u001b[0m\u001b[0m\n\u001b[0;32m--> 249\u001b[0;31m         config_parser.validate(\n\u001b[0m\u001b[1;32m    250\u001b[0m             config, spec, root_dir=dirname(config_file or ''))\n\u001b[1;32m    251\u001b[0m \u001b[0;34m\u001b[0m\u001b[0m\n",
      "\u001b[0;32m~/miniconda3/envs/jwst-dev/lib/python3.8/site-packages/stpipe/config_parser.py\u001b[0m in \u001b[0;36mvalidate\u001b[0;34m(config, spec, section, validator, root_dir, allow_missing)\u001b[0m\n\u001b[1;32m    361\u001b[0m \u001b[0;34m\u001b[0m\u001b[0m\n\u001b[1;32m    362\u001b[0m         \u001b[0;32mif\u001b[0m \u001b[0mlen\u001b[0m\u001b[0;34m(\u001b[0m\u001b[0mmessages\u001b[0m\u001b[0;34m)\u001b[0m\u001b[0;34m:\u001b[0m\u001b[0;34m\u001b[0m\u001b[0;34m\u001b[0m\u001b[0m\n\u001b[0;32m--> 363\u001b[0;31m             \u001b[0;32mraise\u001b[0m \u001b[0mValidationError\u001b[0m\u001b[0;34m(\u001b[0m\u001b[0;34m'\\n'\u001b[0m\u001b[0;34m.\u001b[0m\u001b[0mjoin\u001b[0m\u001b[0;34m(\u001b[0m\u001b[0mmessages\u001b[0m\u001b[0;34m)\u001b[0m\u001b[0;34m)\u001b[0m\u001b[0;34m\u001b[0m\u001b[0;34m\u001b[0m\u001b[0m\n\u001b[0m\u001b[1;32m    364\u001b[0m     \u001b[0;32mfinally\u001b[0m\u001b[0;34m:\u001b[0m\u001b[0;34m\u001b[0m\u001b[0;34m\u001b[0m\u001b[0m\n\u001b[1;32m    365\u001b[0m         \u001b[0mconfig\u001b[0m\u001b[0;34m.\u001b[0m\u001b[0mmain\u001b[0m\u001b[0;34m.\u001b[0m\u001b[0mconfigspec\u001b[0m \u001b[0;34m=\u001b[0m \u001b[0morig_configspec\u001b[0m\u001b[0;34m\u001b[0m\u001b[0;34m\u001b[0m\u001b[0m\n",
      "\u001b[0;31mValidationError\u001b[0m: Extra value 'brightest' in root"
     ]
    }
   ],
   "source": [
    "result3_myparfile = pipe3.call('jw42424001001_01101_00001_nrca5_cal.fits',\n",
    "                               config_file='my_custom_parfile_tweakregstep.asdf')"
   ]
  },
  {
   "cell_type": "markdown",
   "metadata": {},
   "source": [
    "The last example showed how to use the `call` method in conjunction with a custom parameter file to configure the pipeline. This is the reccomended approach.\n",
    "\n",
    "It is possible to accomplish the same thing using the `run` method - in this case, we will have to set every value in the parameter file that we wish to change from the coded default to an attribute directly on the pipeline object. "
   ]
  },
  {
   "cell_type": "code",
   "execution_count": 115,
   "metadata": {},
   "outputs": [
    {
     "name": "stderr",
     "output_type": "stream",
     "text": [
      "2021-04-05 09:54:24,921 - stpipe - WARNING - /Users/cshanahan/miniconda3/envs/jwst-dev/lib/python3.8/site-packages/ipykernel/ipkernel.py:287: DeprecationWarning: `should_run_async` will not call `transform_cell` automatically in the future. Please pass the result to `transformed_cell` argument and any exception that happen during thetransform in `preprocessing_exc_tuple` in IPython 7.17 and above.\n",
      "  and should_run_async(code)\n",
      "\n",
      "2021-04-05 09:54:24,976 - stpipe.Image3Pipeline - INFO - Image3Pipeline instance created.\n",
      "2021-04-05 09:54:24,979 - stpipe.Image3Pipeline.assign_mtwcs - INFO - AssignMTWcsStep instance created.\n",
      "2021-04-05 09:54:24,983 - stpipe.Image3Pipeline.tweakreg - INFO - TweakRegStep instance created.\n",
      "2021-04-05 09:54:24,990 - stpipe.Image3Pipeline.skymatch - INFO - SkyMatchStep instance created.\n",
      "2021-04-05 09:54:24,994 - stpipe.Image3Pipeline.outlier_detection - INFO - OutlierDetectionStep instance created.\n",
      "2021-04-05 09:54:24,996 - stpipe.Image3Pipeline.resample - INFO - ResampleStep instance created.\n",
      "2021-04-05 09:54:25,000 - stpipe.Image3Pipeline.source_catalog - INFO - SourceCatalogStep instance created.\n"
     ]
    },
    {
     "data": {
      "text/plain": [
       "'\\n    '"
      ]
     },
     "execution_count": 115,
     "metadata": {},
     "output_type": "execute_result"
    }
   ],
   "source": [
    "pipe3 = Image3Pipeline()\n",
    "\n",
    "\n",
    "pipe3.brightest = 50\n",
    "pipe3.kernel_fwhm = 2.302\n",
    "pipe3.minobj = 15\n",
    "pipe3.nclip = 2\n",
    "pipe3.searchrad = 1.0\n",
    "pipe3.separation = 0.5\n",
    "pipe3.sigma = 3.0\n",
    "pipe3.snr_threshold = 5\n",
    "\n",
    "\n",
    "pipe3.run('jw42424001001_01101_00001_nrca5_cal.fits')"
   ]
  },
  {
   "cell_type": "markdown",
   "metadata": {},
   "source": [
    "## Overriding Reference Files in Python"
   ]
  },
  {
   "cell_type": "markdown",
   "metadata": {},
   "source": [
    "As shown above in example 1 (link), the `model.meta` (which is derived from the `fits` file header) contains paths to the reference files that will be used by the pipeline. Changing these file names in the file header will point the pipeline to use a different reference file. Often times users will want to do this in order to substitute in their own reference files. Note that the header value must contain the full path to the reference file, and due to character limits a full path is often too long (hence the reason the CRDS_PATH environment variable is set to shorten the path in the header). \n",
    "\n",
    "#### Example x: Substituting Reference Files in Python\n",
    "\n",
    "In this example, we will run `Detector1Pipeline` on the `uncal.fits`, but substitute the CRDS-chosen dark reference file for our own, `my_dark.fits`."
   ]
  },
  {
   "cell_type": "code",
   "execution_count": 131,
   "metadata": {},
   "outputs": [],
   "source": [
    "pipe1_mydarkref = Detector1Pipeline\n",
    "\n",
    "# put some working code here...."
   ]
  },
  {
   "cell_type": "markdown",
   "metadata": {},
   "source": [
    "When calling the pipeline object directly using `pipe.run`, the desired reference file overrides can be set directly via the `override_<reffile>` attributes."
   ]
  },
  {
   "cell_type": "code",
   "execution_count": 133,
   "metadata": {},
   "outputs": [
    {
     "name": "stderr",
     "output_type": "stream",
     "text": [
      "2021-04-11 23:43:12,894 - stpipe.Image2Pipeline - WARNING - /Users/cshanahan/miniconda3/envs/jwst-dev/lib/python3.8/site-packages/ipykernel/ipkernel.py:287: DeprecationWarning: `should_run_async` will not call `transform_cell` automatically in the future. Please pass the result to `transformed_cell` argument and any exception that happen during thetransform in `preprocessing_exc_tuple` in IPython 7.17 and above.\n",
      "  and should_run_async(code)\n",
      "\n",
      "2021-04-11 23:43:12,910 - stpipe.Detector1Pipeline - INFO - Detector1Pipeline instance created.\n",
      "2021-04-11 23:43:12,912 - stpipe.Detector1Pipeline.group_scale - INFO - GroupScaleStep instance created.\n",
      "2021-04-11 23:43:12,914 - stpipe.Detector1Pipeline.dq_init - INFO - DQInitStep instance created.\n",
      "2021-04-11 23:43:12,915 - stpipe.Detector1Pipeline.saturation - INFO - SaturationStep instance created.\n",
      "2021-04-11 23:43:12,917 - stpipe.Detector1Pipeline.ipc - INFO - IPCStep instance created.\n",
      "2021-04-11 23:43:12,919 - stpipe.Detector1Pipeline.superbias - INFO - SuperBiasStep instance created.\n",
      "2021-04-11 23:43:12,921 - stpipe.Detector1Pipeline.refpix - INFO - RefPixStep instance created.\n",
      "2021-04-11 23:43:12,924 - stpipe.Detector1Pipeline.rscd - INFO - RscdStep instance created.\n",
      "2021-04-11 23:43:12,926 - stpipe.Detector1Pipeline.firstframe - INFO - FirstFrameStep instance created.\n",
      "2021-04-11 23:43:12,928 - stpipe.Detector1Pipeline.lastframe - INFO - LastFrameStep instance created.\n",
      "2021-04-11 23:43:12,930 - stpipe.Detector1Pipeline.linearity - INFO - LinearityStep instance created.\n",
      "2021-04-11 23:43:12,932 - stpipe.Detector1Pipeline.dark_current - INFO - DarkCurrentStep instance created.\n",
      "2021-04-11 23:43:12,934 - stpipe.Detector1Pipeline.reset - INFO - ResetStep instance created.\n",
      "2021-04-11 23:43:12,936 - stpipe.Detector1Pipeline.persistence - INFO - PersistenceStep instance created.\n",
      "2021-04-11 23:43:12,938 - stpipe.Detector1Pipeline.jump - INFO - JumpStep instance created.\n",
      "2021-04-11 23:43:12,941 - stpipe.Detector1Pipeline.ramp_fit - INFO - RampFitStep instance created.\n",
      "2021-04-11 23:43:12,943 - stpipe.Detector1Pipeline.gain_scale - INFO - GainScaleStep instance created.\n",
      "2021-04-11 23:43:13,252 - stpipe.Detector1Pipeline - INFO - Step Detector1Pipeline running with args ('jw42424001001_01101_00001_nrca5_uncal.fits',).\n",
      "2021-04-11 23:43:13,268 - stpipe.Detector1Pipeline - INFO - Step Detector1Pipeline parameters are: {'pre_hooks': [], 'post_hooks': [], 'output_file': None, 'output_dir': None, 'output_ext': '.fits', 'output_use_model': False, 'output_use_index': True, 'save_results': False, 'skip': False, 'suffix': None, 'search_output_file': True, 'input_dir': '', 'save_calibrated_ramp': False, 'steps': {'group_scale': {'pre_hooks': [], 'post_hooks': [], 'output_file': None, 'output_dir': None, 'output_ext': '.fits', 'output_use_model': False, 'output_use_index': True, 'save_results': False, 'skip': False, 'suffix': None, 'search_output_file': True, 'input_dir': ''}, 'dq_init': {'pre_hooks': [], 'post_hooks': [], 'output_file': None, 'output_dir': None, 'output_ext': '.fits', 'output_use_model': False, 'output_use_index': True, 'save_results': False, 'skip': False, 'suffix': None, 'search_output_file': True, 'input_dir': ''}, 'saturation': {'pre_hooks': [], 'post_hooks': [], 'output_file': None, 'output_dir': None, 'output_ext': '.fits', 'output_use_model': False, 'output_use_index': True, 'save_results': False, 'skip': False, 'suffix': None, 'search_output_file': True, 'input_dir': ''}, 'ipc': {'pre_hooks': [], 'post_hooks': [], 'output_file': None, 'output_dir': None, 'output_ext': '.fits', 'output_use_model': False, 'output_use_index': True, 'save_results': False, 'skip': False, 'suffix': None, 'search_output_file': True, 'input_dir': ''}, 'superbias': {'pre_hooks': [], 'post_hooks': [], 'output_file': None, 'output_dir': None, 'output_ext': '.fits', 'output_use_model': False, 'output_use_index': True, 'save_results': False, 'skip': False, 'suffix': None, 'search_output_file': True, 'input_dir': ''}, 'refpix': {'pre_hooks': [], 'post_hooks': [], 'output_file': None, 'output_dir': None, 'output_ext': '.fits', 'output_use_model': False, 'output_use_index': True, 'save_results': False, 'skip': False, 'suffix': None, 'search_output_file': True, 'input_dir': '', 'odd_even_columns': True, 'use_side_ref_pixels': True, 'side_smoothing_length': 11, 'side_gain': 1.0, 'odd_even_rows': True}, 'rscd': {'pre_hooks': [], 'post_hooks': [], 'output_file': None, 'output_dir': None, 'output_ext': '.fits', 'output_use_model': False, 'output_use_index': True, 'save_results': False, 'skip': False, 'suffix': None, 'search_output_file': True, 'input_dir': '', 'type': 'baseline'}, 'firstframe': {'pre_hooks': [], 'post_hooks': [], 'output_file': None, 'output_dir': None, 'output_ext': '.fits', 'output_use_model': False, 'output_use_index': True, 'save_results': False, 'skip': False, 'suffix': None, 'search_output_file': True, 'input_dir': ''}, 'lastframe': {'pre_hooks': [], 'post_hooks': [], 'output_file': None, 'output_dir': None, 'output_ext': '.fits', 'output_use_model': False, 'output_use_index': True, 'save_results': False, 'skip': False, 'suffix': None, 'search_output_file': True, 'input_dir': ''}, 'linearity': {'pre_hooks': [], 'post_hooks': [], 'output_file': None, 'output_dir': None, 'output_ext': '.fits', 'output_use_model': False, 'output_use_index': True, 'save_results': False, 'skip': False, 'suffix': None, 'search_output_file': True, 'input_dir': ''}, 'dark_current': {'pre_hooks': [], 'post_hooks': [], 'output_file': None, 'output_dir': None, 'output_ext': '.fits', 'output_use_model': False, 'output_use_index': True, 'save_results': False, 'skip': False, 'suffix': None, 'search_output_file': True, 'input_dir': '', 'dark_output': None}, 'reset': {'pre_hooks': [], 'post_hooks': [], 'output_file': None, 'output_dir': None, 'output_ext': '.fits', 'output_use_model': False, 'output_use_index': True, 'save_results': False, 'skip': False, 'suffix': None, 'search_output_file': True, 'input_dir': ''}, 'persistence': {'pre_hooks': [], 'post_hooks': [], 'output_file': None, 'output_dir': None, 'output_ext': '.fits', 'output_use_model': False, 'output_use_index': True, 'save_results': False, 'skip': False, 'suffix': None, 'search_output_file': True, 'input_dir': '', 'input_trapsfilled': '', 'flag_pers_cutoff': 40.0, 'save_persistence': False, 'save_trapsfilled': True}, 'jump': {'pre_hooks': [], 'post_hooks': [], 'output_file': None, 'output_dir': None, 'output_ext': '.fits', 'output_use_model': False, 'output_use_index': True, 'save_results': False, 'skip': False, 'suffix': None, 'search_output_file': True, 'input_dir': '', 'rejection_threshold': 4.0, 'maximum_cores': 'none', 'flag_4_neighbors': True, 'max_jump_to_flag_neighbors': 200.0, 'min_jump_to_flag_neighbors': 10.0}, 'ramp_fit': {'pre_hooks': [], 'post_hooks': [], 'output_file': None, 'output_dir': None, 'output_ext': '.fits', 'output_use_model': False, 'output_use_index': True, 'save_results': False, 'skip': False, 'suffix': None, 'search_output_file': True, 'input_dir': '', 'int_name': '', 'save_opt': False, 'opt_name': '', 'maximum_cores': 'none'}, 'gain_scale': {'pre_hooks': [], 'post_hooks': [], 'output_file': None, 'output_dir': None, 'output_ext': '.fits', 'output_use_model': False, 'output_use_index': True, 'save_results': False, 'skip': False, 'suffix': None, 'search_output_file': True, 'input_dir': ''}}}\n",
      "2021-04-11 23:43:13,559 - stpipe.Detector1Pipeline - INFO - Prefetching reference files for dataset: 'jw42424001001_01101_00001_nrca5_uncal.fits' reftypes = ['dark', 'gain', 'ipc', 'linearity', 'mask', 'persat', 'readnoise', 'refpix', 'reset', 'rscd', 'saturation', 'superbias', 'trapdensity', 'trappars']\n",
      "2021-04-11 23:43:13,570 - stpipe.Detector1Pipeline - INFO - Prefetch for DARK reference file is '/Users/cshanahan/crds_cache/references/jwst/nircam/jwst_nircam_dark_0043.fits'.\n",
      "2021-04-11 23:43:13,571 - stpipe.Detector1Pipeline - INFO - Prefetch for GAIN reference file is '/Users/cshanahan/crds_cache/references/jwst/nircam/jwst_nircam_gain_0056.fits'.\n",
      "2021-04-11 23:43:13,571 - stpipe.Detector1Pipeline - INFO - Prefetch for IPC reference file is '/Users/cshanahan/crds_cache/references/jwst/nircam/jwst_nircam_ipc_0028.fits'.\n"
     ]
    },
    {
     "name": "stderr",
     "output_type": "stream",
     "text": [
      "2021-04-11 23:43:13,572 - stpipe.Detector1Pipeline - INFO - Prefetch for LINEARITY reference file is '/Users/cshanahan/crds_cache/references/jwst/nircam/jwst_nircam_linearity_0052.fits'.\n",
      "2021-04-11 23:43:13,574 - stpipe.Detector1Pipeline - INFO - Prefetch for MASK reference file is '/Users/cshanahan/crds_cache/references/jwst/nircam/jwst_nircam_mask_0038.fits'.\n",
      "2021-04-11 23:43:13,574 - stpipe.Detector1Pipeline - INFO - Prefetch for PERSAT reference file is '/Users/cshanahan/crds_cache/references/jwst/nircam/jwst_nircam_persat_0016.fits'.\n",
      "2021-04-11 23:43:13,575 - stpipe.Detector1Pipeline - INFO - Prefetch for READNOISE reference file is '/Users/cshanahan/crds_cache/references/jwst/nircam/jwst_nircam_readnoise_0042.fits'.\n",
      "2021-04-11 23:43:13,577 - stpipe.Detector1Pipeline - INFO - Prefetch for REFPIX reference file is 'N/A'.\n",
      "2021-04-11 23:43:13,578 - stpipe.Detector1Pipeline - INFO - Prefetch for RESET reference file is 'N/A'.\n",
      "2021-04-11 23:43:13,578 - stpipe.Detector1Pipeline - INFO - Prefetch for RSCD reference file is 'N/A'.\n",
      "2021-04-11 23:43:13,579 - stpipe.Detector1Pipeline - INFO - Prefetch for SATURATION reference file is '/Users/cshanahan/crds_cache/references/jwst/nircam/jwst_nircam_saturation_0063.fits'.\n",
      "2021-04-11 23:43:13,579 - stpipe.Detector1Pipeline - INFO - Prefetch for SUPERBIAS reference file is '/Users/cshanahan/crds_cache/references/jwst/nircam/jwst_nircam_superbias_0022.fits'.\n",
      "2021-04-11 23:43:13,580 - stpipe.Detector1Pipeline - INFO - Prefetch for TRAPDENSITY reference file is '/Users/cshanahan/crds_cache/references/jwst/nircam/jwst_nircam_trapdensity_0004.fits'.\n",
      "2021-04-11 23:43:13,581 - stpipe.Detector1Pipeline - INFO - Prefetch for TRAPPARS reference file is '/Users/cshanahan/crds_cache/references/jwst/nircam/jwst_nircam_trappars_0002.fits'.\n",
      "2021-04-11 23:43:13,582 - stpipe.Detector1Pipeline - INFO - Starting calwebb_detector1 ...\n",
      "2021-04-11 23:43:13,957 - stpipe.Detector1Pipeline.group_scale - INFO - Step group_scale running with args (<RampModel(1, 7, 2048, 2048) from jw42424001001_01101_00001_nrca5_uncal.fits>,).\n",
      "2021-04-11 23:43:13,959 - stpipe.Detector1Pipeline.group_scale - INFO - Step group_scale parameters are: {'pre_hooks': [], 'post_hooks': [], 'output_file': None, 'output_dir': None, 'output_ext': '.fits', 'output_use_model': False, 'output_use_index': True, 'save_results': False, 'skip': False, 'suffix': None, 'search_output_file': True, 'input_dir': ''}\n",
      "2021-04-11 23:43:14,058 - stpipe.Detector1Pipeline.group_scale - INFO - NFRAMES=1 is a power of 2; correction not needed\n",
      "2021-04-11 23:43:14,059 - stpipe.Detector1Pipeline.group_scale - INFO - Step will be skipped\n",
      "2021-04-11 23:43:14,061 - stpipe.Detector1Pipeline.group_scale - INFO - Step group_scale done\n",
      "2021-04-11 23:43:14,192 - stpipe.Detector1Pipeline.dq_init - INFO - Step dq_init running with args (<RampModel(1, 7, 2048, 2048) from jw42424001001_01101_00001_nrca5_uncal.fits>,).\n",
      "2021-04-11 23:43:14,194 - stpipe.Detector1Pipeline.dq_init - INFO - Step dq_init parameters are: {'pre_hooks': [], 'post_hooks': [], 'output_file': None, 'output_dir': None, 'output_ext': '.fits', 'output_use_model': False, 'output_use_index': True, 'save_results': False, 'skip': False, 'suffix': None, 'search_output_file': True, 'input_dir': ''}\n",
      "2021-04-11 23:43:14,222 - stpipe.Detector1Pipeline.dq_init - INFO - Using MASK reference file /Users/cshanahan/crds_cache/references/jwst/nircam/jwst_nircam_mask_0038.fits\n",
      "2021-04-11 23:43:14,399 - stpipe.Detector1Pipeline.dq_init - WARNING - Keyword NOISY does not correspond to an existing DQ mnemonic, so will be ignored\n",
      "2021-04-11 23:43:14,510 - stpipe.Detector1Pipeline.dq_init - WARNING - Keyword WEIRD does not correspond to an existing DQ mnemonic, so will be ignored\n",
      "2021-04-11 23:43:14,662 - stpipe.Detector1Pipeline.dq_init - INFO - Step dq_init done\n",
      "2021-04-11 23:43:14,797 - stpipe.Detector1Pipeline.saturation - INFO - Step saturation running with args (<RampModel(1, 7, 2048, 2048) from jw42424001001_01101_00001_nrca5_uncal.fits>,).\n",
      "2021-04-11 23:43:14,799 - stpipe.Detector1Pipeline.saturation - INFO - Step saturation parameters are: {'pre_hooks': [], 'post_hooks': [], 'output_file': None, 'output_dir': None, 'output_ext': '.fits', 'output_use_model': False, 'output_use_index': True, 'save_results': False, 'skip': False, 'suffix': None, 'search_output_file': True, 'input_dir': ''}\n",
      "2021-04-11 23:43:14,824 - stpipe.Detector1Pipeline.saturation - INFO - Using SATURATION reference file /Users/cshanahan/crds_cache/references/jwst/nircam/jwst_nircam_saturation_0063.fits\n",
      "2021-04-11 23:43:14,917 - stpipe.Detector1Pipeline.saturation - WARNING - Keyword NO_SATURATION does not correspond to an existing DQ mnemonic, so will be ignored\n",
      "2021-04-11 23:43:14,918 - stpipe.Detector1Pipeline.saturation - WARNING - Keyword FEW_SAMPLES does not correspond to an existing DQ mnemonic, so will be ignored\n",
      "2021-04-11 23:43:14,918 - stpipe.Detector1Pipeline.saturation - WARNING - Keyword AD_SATURATION does not correspond to an existing DQ mnemonic, so will be ignored\n",
      "2021-04-11 23:43:14,919 - stpipe.Detector1Pipeline.saturation - WARNING - Keyword WEIRD_PIXEL does not correspond to an existing DQ mnemonic, so will be ignored\n",
      "2021-04-11 23:43:14,920 - stpipe.Detector1Pipeline.saturation - WARNING - Keyword DEAD_PIXEL does not correspond to an existing DQ mnemonic, so will be ignored\n",
      "2021-04-11 23:43:15,307 - stpipe.Detector1Pipeline.saturation - INFO - Detected 35212 saturated pixels\n",
      "2021-04-11 23:43:15,330 - stpipe.Detector1Pipeline.saturation - INFO - Detected 0 A/D floor pixels\n",
      "2021-04-11 23:43:15,336 - stpipe.Detector1Pipeline.saturation - INFO - Step saturation done\n",
      "2021-04-11 23:43:15,474 - stpipe.Detector1Pipeline.ipc - INFO - Step ipc running with args (<RampModel(1, 7, 2048, 2048) from jw42424001001_01101_00001_nrca5_uncal.fits>,).\n",
      "2021-04-11 23:43:15,476 - stpipe.Detector1Pipeline.ipc - INFO - Step ipc parameters are: {'pre_hooks': [], 'post_hooks': [], 'output_file': None, 'output_dir': None, 'output_ext': '.fits', 'output_use_model': False, 'output_use_index': True, 'save_results': False, 'skip': False, 'suffix': None, 'search_output_file': True, 'input_dir': ''}\n",
      "2021-04-11 23:43:15,501 - stpipe.Detector1Pipeline.ipc - INFO - Using IPC reference file /Users/cshanahan/crds_cache/references/jwst/nircam/jwst_nircam_ipc_0028.fits\n",
      "2021-04-11 23:43:16,141 - stpipe.Detector1Pipeline.ipc - INFO - Step ipc done\n",
      "2021-04-11 23:43:16,282 - stpipe.Detector1Pipeline.superbias - INFO - Step superbias running with args (<RampModel(1, 7, 2048, 2048) from jw42424001001_01101_00001_nrca5_uncal.fits>,).\n",
      "2021-04-11 23:43:16,284 - stpipe.Detector1Pipeline.superbias - INFO - Step superbias parameters are: {'pre_hooks': [], 'post_hooks': [], 'output_file': None, 'output_dir': None, 'output_ext': '.fits', 'output_use_model': False, 'output_use_index': True, 'save_results': False, 'skip': False, 'suffix': None, 'search_output_file': True, 'input_dir': ''}\n",
      "2021-04-11 23:43:16,308 - stpipe.Detector1Pipeline.superbias - INFO - Using SUPERBIAS reference file /Users/cshanahan/crds_cache/references/jwst/nircam/jwst_nircam_superbias_0022.fits\n",
      "2021-04-11 23:43:16,466 - stpipe.Detector1Pipeline.superbias - WARNING - Keyword NOISY does not correspond to an existing DQ mnemonic, so will be ignored\n",
      "2021-04-11 23:43:16,567 - stpipe.Detector1Pipeline.superbias - INFO - Step superbias done\n",
      "2021-04-11 23:43:16,707 - stpipe.Detector1Pipeline.refpix - INFO - Step refpix running with args (<RampModel(1, 7, 2048, 2048) from jw42424001001_01101_00001_nrca5_uncal.fits>,).\n",
      "2021-04-11 23:43:16,709 - stpipe.Detector1Pipeline.refpix - INFO - Step refpix parameters are: {'pre_hooks': [], 'post_hooks': [], 'output_file': None, 'output_dir': None, 'output_ext': '.fits', 'output_use_model': False, 'output_use_index': True, 'save_results': False, 'skip': False, 'suffix': None, 'search_output_file': True, 'input_dir': '', 'odd_even_columns': True, 'use_side_ref_pixels': True, 'side_smoothing_length': 11, 'side_gain': 1.0, 'odd_even_rows': True}\n",
      "2021-04-11 23:43:16,721 - stpipe.Detector1Pipeline.refpix - INFO - use_side_ref_pixels = True\n",
      "2021-04-11 23:43:16,722 - stpipe.Detector1Pipeline.refpix - INFO - odd_even_columns = True\n"
     ]
    },
    {
     "name": "stderr",
     "output_type": "stream",
     "text": [
      "2021-04-11 23:43:16,723 - stpipe.Detector1Pipeline.refpix - INFO - side_smoothing_length = 11\n",
      "2021-04-11 23:43:16,723 - stpipe.Detector1Pipeline.refpix - INFO - side_gain = 1.000000\n",
      "2021-04-11 23:43:16,724 - stpipe.Detector1Pipeline.refpix - INFO - odd_even_rows = True\n",
      "2021-04-11 23:43:18,646 - stpipe.Detector1Pipeline.refpix - INFO - Step refpix done\n",
      "2021-04-11 23:43:18,783 - stpipe.Detector1Pipeline.linearity - INFO - Step linearity running with args (<RampModel(1, 7, 2048, 2048) from jw42424001001_01101_00001_nrca5_uncal.fits>,).\n",
      "2021-04-11 23:43:18,785 - stpipe.Detector1Pipeline.linearity - INFO - Step linearity parameters are: {'pre_hooks': [], 'post_hooks': [], 'output_file': None, 'output_dir': None, 'output_ext': '.fits', 'output_use_model': False, 'output_use_index': True, 'save_results': False, 'skip': False, 'suffix': None, 'search_output_file': True, 'input_dir': ''}\n",
      "2021-04-11 23:43:18,809 - stpipe.Detector1Pipeline.linearity - INFO - Using Linearity reference file /Users/cshanahan/crds_cache/references/jwst/nircam/jwst_nircam_linearity_0052.fits\n",
      "2021-04-11 23:43:18,944 - stpipe.Detector1Pipeline.linearity - WARNING - Keyword UAZ_DO_NOT_USE does not correspond to an existing DQ mnemonic, so will be ignored\n",
      "2021-04-11 23:43:18,945 - stpipe.Detector1Pipeline.linearity - WARNING - Keyword UAZ_NO_LIN_SAMP does not correspond to an existing DQ mnemonic, so will be ignored\n",
      "2021-04-11 23:43:18,946 - stpipe.Detector1Pipeline.linearity - WARNING - Keyword UAZ_BAD_LIN_FIT does not correspond to an existing DQ mnemonic, so will be ignored\n",
      "2021-04-11 23:43:18,946 - stpipe.Detector1Pipeline.linearity - WARNING - Keyword UAZ_NO_WELL_SAMP does not correspond to an existing DQ mnemonic, so will be ignored\n",
      "2021-04-11 23:43:18,947 - stpipe.Detector1Pipeline.linearity - WARNING - Keyword UAZ_MODEL_FIT_FAIL does not correspond to an existing DQ mnemonic, so will be ignored\n",
      "2021-04-11 23:43:18,948 - stpipe.Detector1Pipeline.linearity - WARNING - Keyword UAZ_WELL_NOT_DEFINED does not correspond to an existing DQ mnemonic, so will be ignored\n",
      "2021-04-11 23:43:18,949 - stpipe.Detector1Pipeline.linearity - WARNING - Keyword UAZ_MASTER_MASK does not correspond to an existing DQ mnemonic, so will be ignored\n",
      "2021-04-11 23:43:19,613 - stpipe.Detector1Pipeline.linearity - INFO - Step linearity done\n",
      "2021-04-11 23:43:19,759 - stpipe.Detector1Pipeline.persistence - INFO - Step persistence running with args (<RampModel(1, 7, 2048, 2048) from jw42424001001_01101_00001_nrca5_uncal.fits>,).\n",
      "2021-04-11 23:43:19,761 - stpipe.Detector1Pipeline.persistence - INFO - Step persistence parameters are: {'pre_hooks': [], 'post_hooks': [], 'output_file': None, 'output_dir': None, 'output_ext': '.fits', 'output_use_model': False, 'output_use_index': True, 'save_results': False, 'skip': False, 'suffix': None, 'search_output_file': True, 'input_dir': '', 'input_trapsfilled': '', 'flag_pers_cutoff': 40.0, 'save_persistence': False, 'save_trapsfilled': True}\n",
      "2021-04-11 23:43:20,000 - stpipe.Detector1Pipeline.persistence - WARNING - Keyword WEIRD_PIXEL does not correspond to an existing DQ mnemonic, so will be ignored\n",
      "2021-04-11 23:43:22,238 - stpipe.Detector1Pipeline.persistence - INFO - Saved model in jw42424001001_01101_00001_nrca5_trapsfilled.fits\n",
      "2021-04-11 23:43:22,240 - stpipe.Detector1Pipeline.persistence - INFO - Step persistence done\n",
      "2021-04-11 23:43:22,391 - stpipe.Detector1Pipeline.dark_current - INFO - Step dark_current running with args (<RampModel(1, 7, 2048, 2048) from jw42424001001_01101_00001_nrca5_uncal.fits>,).\n",
      "2021-04-11 23:43:22,393 - stpipe.Detector1Pipeline.dark_current - INFO - Step dark_current parameters are: {'pre_hooks': [], 'post_hooks': [], 'output_file': None, 'output_dir': None, 'output_ext': '.fits', 'output_use_model': False, 'output_use_index': True, 'save_results': False, 'skip': False, 'suffix': None, 'search_output_file': True, 'input_dir': '', 'dark_output': None}\n",
      "2021-04-11 23:43:22,417 - stpipe.Detector1Pipeline.dark_current - INFO - Using DARK reference file /Users/cshanahan/crds_cache/references/jwst/nircam/jwst_nircam_dark_0043.fits\n",
      "2021-04-11 23:43:24,079 - stpipe.Detector1Pipeline.dark_current - WARNING - Keyword HIGH_NOISE does not correspond to an existing DQ mnemonic, so will be ignored\n",
      "2021-04-11 23:43:24,080 - stpipe.Detector1Pipeline.dark_current - WARNING - Keyword UNSTABLE_NOISE does not correspond to an existing DQ mnemonic, so will be ignored\n",
      "2021-04-11 23:43:24,082 - stpipe.Detector1Pipeline.dark_current - INFO - Science data nints=1, ngroups=7, nframes=1, groupgap=1\n",
      "2021-04-11 23:43:24,083 - stpipe.Detector1Pipeline.dark_current - INFO - Dark data nints=1, ngroups=108, nframes=1, groupgap=0\n",
      "2021-04-11 23:43:24,761 - stpipe.Detector1Pipeline.dark_current - INFO - Step dark_current done\n",
      "2021-04-11 23:43:25,040 - stpipe.Detector1Pipeline.jump - INFO - Step jump running with args (<RampModel(1, 7, 2048, 2048) from jw42424001001_01101_00001_nrca5_uncal.fits>,).\n",
      "2021-04-11 23:43:25,042 - stpipe.Detector1Pipeline.jump - INFO - Step jump parameters are: {'pre_hooks': [], 'post_hooks': [], 'output_file': None, 'output_dir': None, 'output_ext': '.fits', 'output_use_model': False, 'output_use_index': True, 'save_results': False, 'skip': False, 'suffix': None, 'search_output_file': True, 'input_dir': '', 'rejection_threshold': 4.0, 'maximum_cores': 'none', 'flag_4_neighbors': True, 'max_jump_to_flag_neighbors': 200.0, 'min_jump_to_flag_neighbors': 10.0}\n",
      "2021-04-11 23:43:25,053 - stpipe.Detector1Pipeline.jump - INFO - CR rejection threshold = 4 sigma\n",
      "2021-04-11 23:43:25,067 - stpipe.Detector1Pipeline.jump - INFO - Using GAIN reference file: /Users/cshanahan/crds_cache/references/jwst/nircam/jwst_nircam_gain_0056.fits\n",
      "2021-04-11 23:43:25,115 - stpipe.Detector1Pipeline.jump - INFO - Using READNOISE reference file: /Users/cshanahan/crds_cache/references/jwst/nircam/jwst_nircam_readnoise_0042.fits\n",
      "2021-04-11 23:43:25,133 - stpipe.Detector1Pipeline.jump - INFO - Found 16 possible cores to use for jump detection \n",
      "2021-04-11 23:43:25,276 - stpipe.Detector1Pipeline.jump - INFO - Executing two-point difference method\n",
      "2021-04-11 23:43:25,523 - stpipe.Detector1Pipeline.jump - INFO - Working on integration 1:\n",
      "2021-04-11 23:43:26,467 - stpipe.Detector1Pipeline.jump - INFO - From highest outlier Two-point found 282374 pixels with at least one CR\n",
      "2021-04-11 23:43:35,837 - stpipe.Detector1Pipeline.jump - INFO - Total elapsed time = 10.56 sec\n",
      "2021-04-11 23:43:35,838 - stpipe.Detector1Pipeline.jump - INFO - The execution time in seconds: 10.784986\n",
      "2021-04-11 23:43:35,840 - stpipe.Detector1Pipeline.jump - INFO - Step jump done\n",
      "2021-04-11 23:43:35,982 - stpipe.Detector1Pipeline.ramp_fit - INFO - Step ramp_fit running with args (<RampModel(1, 7, 2048, 2048) from jw42424001001_01101_00001_nrca5_uncal.fits>,).\n",
      "2021-04-11 23:43:35,984 - stpipe.Detector1Pipeline.ramp_fit - INFO - Step ramp_fit parameters are: {'pre_hooks': [], 'post_hooks': [], 'output_file': None, 'output_dir': None, 'output_ext': '.fits', 'output_use_model': False, 'output_use_index': True, 'save_results': False, 'skip': False, 'suffix': None, 'search_output_file': True, 'input_dir': '', 'int_name': '', 'save_opt': False, 'opt_name': '', 'maximum_cores': 'none'}\n",
      "2021-04-11 23:43:36,023 - stpipe.Detector1Pipeline.ramp_fit - INFO - Using READNOISE reference file: /Users/cshanahan/crds_cache/references/jwst/nircam/jwst_nircam_readnoise_0042.fits\n",
      "2021-04-11 23:43:36,040 - stpipe.Detector1Pipeline.ramp_fit - INFO - Using GAIN reference file: /Users/cshanahan/crds_cache/references/jwst/nircam/jwst_nircam_gain_0056.fits\n",
      "2021-04-11 23:43:36,070 - stpipe.Detector1Pipeline.ramp_fit - INFO - Using algorithm = ols\n",
      "2021-04-11 23:43:36,071 - stpipe.Detector1Pipeline.ramp_fit - INFO - Using weighting = optimal\n",
      "2021-04-11 23:44:01,911 - stpipe.Detector1Pipeline.ramp_fit - INFO - Number of groups per integration: 7\n",
      "2021-04-11 23:44:01,911 - stpipe.Detector1Pipeline.ramp_fit - INFO - Number of integrations: 1\n",
      "2021-04-11 23:44:02,034 - stpipe.Detector1Pipeline.ramp_fit - INFO - Step ramp_fit done\n",
      "2021-04-11 23:44:02,170 - stpipe.Detector1Pipeline.gain_scale - INFO - Step gain_scale running with args (<ImageModel(2048, 2048) from jw42424001001_01101_00001_nrca5_uncal.fits>,).\n"
     ]
    },
    {
     "name": "stderr",
     "output_type": "stream",
     "text": [
      "2021-04-11 23:44:02,172 - stpipe.Detector1Pipeline.gain_scale - INFO - Step gain_scale parameters are: {'pre_hooks': [], 'post_hooks': [], 'output_file': None, 'output_dir': None, 'output_ext': '.fits', 'output_use_model': False, 'output_use_index': True, 'save_results': False, 'skip': False, 'suffix': 'gain_scale', 'search_output_file': True, 'input_dir': ''}\n",
      "2021-04-11 23:44:02,223 - stpipe.Detector1Pipeline.gain_scale - INFO - GAINFACT not found in gain reference file\n",
      "2021-04-11 23:44:02,224 - stpipe.Detector1Pipeline.gain_scale - INFO - Step will be skipped\n",
      "2021-04-11 23:44:02,226 - stpipe.Detector1Pipeline.gain_scale - INFO - Step gain_scale done\n",
      "2021-04-11 23:44:02,368 - stpipe.Detector1Pipeline.gain_scale - INFO - Step gain_scale running with args (<CubeModel(1, 2048, 2048) from jw42424001001_01101_00001_nrca5_uncal.fits>,).\n",
      "2021-04-11 23:44:02,370 - stpipe.Detector1Pipeline.gain_scale - INFO - Step gain_scale parameters are: {'pre_hooks': [], 'post_hooks': [], 'output_file': None, 'output_dir': None, 'output_ext': '.fits', 'output_use_model': False, 'output_use_index': True, 'save_results': False, 'skip': False, 'suffix': 'gain_scaleints', 'search_output_file': True, 'input_dir': ''}\n",
      "2021-04-11 23:44:02,422 - stpipe.Detector1Pipeline.gain_scale - INFO - GAINFACT not found in gain reference file\n",
      "2021-04-11 23:44:02,423 - stpipe.Detector1Pipeline.gain_scale - INFO - Step will be skipped\n",
      "2021-04-11 23:44:02,425 - stpipe.Detector1Pipeline.gain_scale - INFO - Step gain_scale done\n",
      "2021-04-11 23:44:02,426 - stpipe.Detector1Pipeline - INFO - ... ending calwebb_detector1\n",
      "2021-04-11 23:44:02,427 - stpipe.Detector1Pipeline - INFO - Step Detector1Pipeline done\n"
     ]
    }
   ],
   "source": [
    "pipe1_mydarkref = Detector1Pipeline()\n",
    "pipe1_mydarkref.override_dark = 'mydark.fits'\n",
    "result_mydarkref = pipe1_mydarkref('jw42424001001_01101_00001_nrca5_uncal.fits')"
   ]
  },
  {
   "cell_type": "code",
   "execution_count": 135,
   "metadata": {},
   "outputs": [
    {
     "data": {
      "text/plain": [
       "{'crds': {'sw_version': '10.3.5', 'context_used': 'jwst_0704.pmap'},\n",
       " 'dark': {'name': 'crds://jwst_nircam_dark_0043.fits'},\n",
       " 'gain': {'name': 'crds://jwst_nircam_gain_0056.fits'},\n",
       " 'ipc': {'name': 'crds://jwst_nircam_ipc_0028.fits'},\n",
       " 'linearity': {'name': 'crds://jwst_nircam_linearity_0052.fits'},\n",
       " 'mask': {'name': 'crds://jwst_nircam_mask_0038.fits'},\n",
       " 'persat': {'name': 'crds://jwst_nircam_persat_0016.fits'},\n",
       " 'readnoise': {'name': 'crds://jwst_nircam_readnoise_0042.fits'},\n",
       " 'saturation': {'name': 'crds://jwst_nircam_saturation_0063.fits'},\n",
       " 'superbias': {'name': 'crds://jwst_nircam_superbias_0022.fits'},\n",
       " 'trapdensity': {'name': 'crds://jwst_nircam_trapdensity_0004.fits'},\n",
       " 'trappars': {'name': 'crds://jwst_nircam_trappars_0002.fits'}}"
      ]
     },
     "execution_count": 135,
     "metadata": {},
     "output_type": "execute_result"
    }
   ],
   "source": [
    "result_mydarkref.meta.ref_file.instance"
   ]
  },
  {
   "cell_type": "markdown",
   "metadata": {},
   "source": [
    "## Skipping Pipeline Steps in Python\n",
    "\n",
    "In Example 1, we saw that the `meta` section of a DataModel shows which pipeline steps were run/skipped to produce that file. This can be set when running the pipeline in Python. The following will create a `Detector1Pipeline` with the `DarkCurrentStep` switched off. Because this is being set directly on the pipeline, this setting will only be used if we call this pipeline directly (vs. using `.call`)."
   ]
  },
  {
   "cell_type": "code",
   "execution_count": 137,
   "metadata": {},
   "outputs": [
    {
     "name": "stderr",
     "output_type": "stream",
     "text": [
      "2021-04-12 09:16:31,375 - stpipe.Detector1Pipeline - INFO - Detector1Pipeline instance created.\n",
      "2021-04-12 09:16:31,378 - stpipe.Detector1Pipeline.group_scale - INFO - GroupScaleStep instance created.\n",
      "2021-04-12 09:16:31,381 - stpipe.Detector1Pipeline.dq_init - INFO - DQInitStep instance created.\n",
      "2021-04-12 09:16:31,383 - stpipe.Detector1Pipeline.saturation - INFO - SaturationStep instance created.\n",
      "2021-04-12 09:16:31,385 - stpipe.Detector1Pipeline.ipc - INFO - IPCStep instance created.\n",
      "2021-04-12 09:16:31,387 - stpipe.Detector1Pipeline.superbias - INFO - SuperBiasStep instance created.\n",
      "2021-04-12 09:16:31,391 - stpipe.Detector1Pipeline.refpix - INFO - RefPixStep instance created.\n",
      "2021-04-12 09:16:31,394 - stpipe.Detector1Pipeline.rscd - INFO - RscdStep instance created.\n",
      "2021-04-12 09:16:31,396 - stpipe.Detector1Pipeline.firstframe - INFO - FirstFrameStep instance created.\n",
      "2021-04-12 09:16:31,430 - stpipe.Detector1Pipeline.lastframe - INFO - LastFrameStep instance created.\n",
      "2021-04-12 09:16:31,433 - stpipe.Detector1Pipeline.linearity - INFO - LinearityStep instance created.\n",
      "2021-04-12 09:16:31,434 - stpipe.Detector1Pipeline.dark_current - INFO - DarkCurrentStep instance created.\n",
      "2021-04-12 09:16:31,436 - stpipe.Detector1Pipeline.reset - INFO - ResetStep instance created.\n",
      "2021-04-12 09:16:31,438 - stpipe.Detector1Pipeline.persistence - INFO - PersistenceStep instance created.\n",
      "2021-04-12 09:16:31,440 - stpipe.Detector1Pipeline.jump - INFO - JumpStep instance created.\n",
      "2021-04-12 09:16:31,442 - stpipe.Detector1Pipeline.ramp_fit - INFO - RampFitStep instance created.\n",
      "2021-04-12 09:16:31,444 - stpipe.Detector1Pipeline.gain_scale - INFO - GainScaleStep instance created.\n"
     ]
    }
   ],
   "source": [
    "pipe_skipdark = Detector1Pipeline()\n",
    "pipe_skipdark.dark_current.skip = True\n"
   ]
  },
  {
   "cell_type": "markdown",
   "metadata": {},
   "source": [
    "# Running the Pipeline Using the Command Line Interface (stpipe run) <a class=\"anchor\" id=\"7\"></a>\n",
    "\n",
    "The previous section demonstrated how to run the JWST pipeline (and steps, individually), as well as how to configure parameters, reference files, and which steps to run/skip, in Python. All of these same tasks are possible via the command line `stpipe run` command. The most basic way to use command line interface (CLI) is:\n",
    "\n",
    "    $ ./stpipe run -h\n",
    "    usage: stpipe run [-h] [--config <path>] [-d] [-p <name>=<value>] [-v] <class> <input-file>\n",
    "\n",
    "    positional arguments:\n",
    "      <class>            step or pipeline class name (case-insensitive, module path may be omitted for unique class names)\n",
    "      <input-file>       input dataset or association\n",
    "\n",
    "    optional arguments:\n",
    "      -h, --help         show this help message and exit\n",
    "      --config <path>    config file (use 'stpipe print-config' to save and edit the default config)\n",
    "      -d, --debug        debug logging (DEBUG level)\n",
    "      -p <name>=<value>  override an individual step or pipeline parameter (use 'stpipe describe' to list available parameters)\n",
    "      -v, --verbose      verbose logging (INFO level)\n",
    "    \n",
    "The first argument can either be the Python class name of the desired pipeline/step, or a path to a parameter file. The second argument is the input file name.\n",
    "\n",
    "#### Example 1: Running Detector1Pipeline on a NIRCAM Image <a class=\"anchor\" id=\"7a\"></a>\n",
    "\n",
    "The following is the command line equivilent to [Example 1](#5a). This will run the `Detector1Pipeline` on the uncal.fits file with the CRDS designated parameter file, and all best reference files chosen by CRDS.\n",
    "\n",
    "In your shell:\n",
    "\n",
    "    >> $ stpipe run jwst.pipeline.Detector1Pipeline jw42424001001_01101_00001_nrca5_uncal.fits\n",
    "    \n",
    "#### Example 10: Running a Single Pipeline Step (LinearityStep) on a NIRCAM Image (#7b) <a class=\"anchor\" id=\"7b\"></a>\n",
    "\n",
    "The CLI can also be used to run a single pipeline step, just like in python. The equivilant to [Example 2](#5b) would be:\n",
    "\n",
    "    >> $ stpipe run jwst.linearity.LinearityStep jw42424001001_01101_00001_nrca5_uncal.fits\n",
    "    \n",
    "#### CLI tools\n",
    "\n",
    "There are several tools available in `stpipe` to help navigate the available pipelines/steps and options for running them.\n",
    "\n",
    "\n",
    "    1. stpipe list - explore available pipeline/step class names\n",
    "    \n",
    "          To list available pipeline classes:\n",
    "\n",
    "                >> $ stpipe list\n",
    "\n",
    "          To list pipelines and steps:\n",
    "\n",
    "               >> $ stpipe list --all\n",
    "\n",
    "          To list steps in the jwst package:\n",
    "\n",
    "               >> $stpipe list --steps-only jwst.*\n",
    "    \n",
    "     2. stpipe describe - describes pipeline/steps in detail.\n",
    "     \n",
    "          To print step description and parameters:\n",
    "\n",
    "               >> $ stpipe describe jwst.step.RampFitStep\n",
    "\n",
    "          To increase verbosity to include parameters for nested steps:\n",
    "\n",
    "               >> stpipe describe --verbose jwst.pipeline.Detector1Pipeline\n",
    "               \n",
    "     3. stpipe print-config - print step or pipeline config to stdout\n",
    "     \n",
    "          To save a pipeline config to a local file:\n",
    "\n",
    "               >> stpipe print-config jwst.pipeline.Detector1Pipeline dataset.fits > config.asdf\n",
    "    "
   ]
  },
  {
   "cell_type": "code",
   "execution_count": null,
   "metadata": {},
   "outputs": [],
   "source": []
  },
  {
   "cell_type": "code",
   "execution_count": null,
   "metadata": {},
   "outputs": [],
   "source": []
  },
  {
   "cell_type": "code",
   "execution_count": null,
   "metadata": {},
   "outputs": [],
   "source": []
  }
 ],
 "metadata": {
  "kernelspec": {
   "display_name": "Python 3",
   "language": "python",
   "name": "python3"
  },
  "language_info": {
   "codemirror_mode": {
    "name": "ipython",
    "version": 3
   },
   "file_extension": ".py",
   "mimetype": "text/x-python",
   "name": "python",
   "nbconvert_exporter": "python",
   "pygments_lexer": "ipython3",
   "version": "3.8.5"
  }
 },
 "nbformat": 4,
 "nbformat_minor": 4
}
